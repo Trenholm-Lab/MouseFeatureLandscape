{
 "cells": [
  {
   "cell_type": "markdown",
   "metadata": {},
   "source": [
    "# Figure 2\n",
    "\n",
    "1. Distance correlation matrix + graph\n",
    "2. Partial distance correlation matrix + graph\n",
    "3. Spatial mask size\n",
    "4. Linear regression matrix + predictability\n"
   ]
  },
  {
   "cell_type": "markdown",
   "metadata": {},
   "source": [
    "## Imports and setup"
   ]
  },
  {
   "cell_type": "code",
   "execution_count": 1,
   "metadata": {},
   "outputs": [],
   "source": [
    "from utils import *\n",
    "from plot_params import *\n",
    "from sklearn.manifold import MDS\n",
    "import networkx as nx\n",
    "import holoviews as hv\n",
    "from scipy.stats import linregress, pearsonr, spearmanr\n",
    "from sklearn.linear_model import HuberRegressor\n",
    "from matplotlib.colors import rgb2hex\n",
    "import pandas as pd\n",
    "import plotly.graph_objects as go\n",
    "from scikit_posthocs import posthoc_dunn"
   ]
  },
  {
   "cell_type": "code",
   "execution_count": 2,
   "metadata": {},
   "outputs": [],
   "source": [
    "save = True\n",
    "savepath = r'D:\\Data\\DeepMouse\\Figures\\Figure2'"
   ]
  },
  {
   "cell_type": "markdown",
   "metadata": {},
   "source": [
    "## 1. Distance correlation"
   ]
  },
  {
   "cell_type": "code",
   "execution_count": 3,
   "metadata": {},
   "outputs": [],
   "source": [
    "# Plotting functions\n",
    "def plot_matrix(data, regions, figsize=(6,5)):\n",
    "    '''Given distance correlation data (region, region, nrepeat), plot as matrix'''\n",
    "    data_m = data.mean(axis=-1)\n",
    "    data_s = data.std(axis=-1)\n",
    "    mask = np.tri(data_m.shape[0], k=-1).T\n",
    "    data_masked = np.ma.array(data_m, mask=mask)\n",
    "    data_diff = (data_m-data_m.min())/(data_m.max()-data_m.min())\n",
    "\n",
    "    fig, ax = pl.subplots(figsize=figsize)\n",
    "    ax.imshow(data_masked, cmap='gray_r', vmin=data_m.min(), vmax=data_m.max())\n",
    "    # ax.imshow(data_masked, cmap='gray_r', vmin=0, vmax=1)\n",
    "\n",
    "    for i in range(len(regions)):\n",
    "        for j in range(len(regions)):\n",
    "            if data_masked.mask[i,j]: continue\n",
    "            if data_diff[i,j] < 0.5: color = [0]*3\n",
    "            else: color = [1] * 3\n",
    "            ax.text(j,i, f\"{data_m[i,j]:.2f}\\n±{data_s[i,j]:.2f}\", ha='center', va='center', size=6, color=color)\n",
    "    ax.set_xticks(range(data.shape[0]))\n",
    "    ax.set_xticklabels(regions)\n",
    "    #ax.xaxis.tick_top()\n",
    "    ax.set_yticks(range(data.shape[0]))\n",
    "    ax.set_yticklabels(regions)\n",
    "    #ax.invert_yaxis()\n",
    "    ax.spines['top'].set_visible(False)\n",
    "    ax.spines['right'].set_visible(False)\n",
    "    ax.spines['bottom'].set_visible(False)\n",
    "    ax.spines['left'].set_visible(False)\n",
    "    ax.xaxis.set_ticks_position('none')\n",
    "    ax.yaxis.set_ticks_position('none')\n",
    "\n",
    "    return fig, ax\n",
    "\n",
    "def make_graph(data, regions, figsize=(6,5), theta=0, mirror=False, seed=0):\n",
    "    '''Given matrix of similarities, construct a graph using MDS'''\n",
    "    np.random.seed(seed)\n",
    "    mds = MDS(dissimilarity='precomputed')\n",
    "    sim = data.mean(axis=-1)\n",
    "    sim = (sim-sim.min())/(sim.max()-sim.min())\n",
    "    sim = sim/sim.max()\n",
    "    dist = 1-sim\n",
    "    np.fill_diagonal(dist, 0)\n",
    "\n",
    "    graph = mds.fit_transform(dist)\n",
    "\n",
    "    # Rotate/flip if specified\n",
    "    graph = rotate(graph, theta)\n",
    "    if mirror: graph[:,0] = graph[:,0] * -1\n",
    "\n",
    "    fig, ax = pl.subplots(figsize=figsize)\n",
    "    for i, region in enumerate(regions):\n",
    "        ax.plot(graph[i,0], graph[i,1], marker='o', color=colors[i], ms=40, zorder=99)\n",
    "        ax.text(graph[i,0], graph[i,1], region, weight='bold', ha='center', va='center', size=16, zorder=100)\n",
    "    \n",
    "    for i in range(len(regions)):\n",
    "        for j in range(i,len(regions)):\n",
    "            if i == j: continue\n",
    "            x0 = graph[i]\n",
    "            dx = np.array([graph[j,0]-graph[i,0], graph[j,1]-graph[i,1]])\n",
    "            b = 0.0\n",
    "            a = b/np.linalg.norm(dx)\n",
    "            ax.plot([(x0+dx*a)[0], (x0+dx*(1-a))[0]], [(x0+dx*a)[1], (x0+dx*(1-a))[1]], lw=sim[i,j]*15+1, color=[np.max([1-sim[i,j]-0.1,0])]*3, zorder=int(sim[i,j]*10))\n",
    "\n",
    "    dscale = np.abs((graph.max(axis=0)-graph.min(axis=0)))*0.1\n",
    "    ax.set_xlim(graph[:,0].min()-dscale[0], graph[:,0].max()+dscale[0])\n",
    "    ax.set_ylim(graph[:,1].min()-dscale[0], graph[:,1].max()+dscale[1])\n",
    "    ax.axis('off')\n",
    "    return fig, ax\n",
    "\n",
    "def rotate(data, theta):\n",
    "    '''Given a matrix of points in 2D, rotate by theta degrees about the centroid'''\n",
    "    theta = np.deg2rad(theta)\n",
    "    centroid = data.mean(axis=0)\n",
    "    data_centred = data-centroid\n",
    "    rot = np.array([[np.cos(theta), -np.sin(theta)],\n",
    "                    [np.sin(theta), np.cos(theta)]])\n",
    "    data_rot = data @ rot\n",
    "    return data_rot\n",
    "\n",
    "def calculate_hubness(dcor, pdcor_strat):\n",
    "    '''Calculate the hubness of a region as the difference between dcor and pdcor conditioned on that region'''\n",
    "    dcor = dcor.mean(axis=-1)\n",
    "    pdcor_strat = pdcor_strat.mean(axis=-1)\n",
    "\n",
    "    hubness_matrix = np.zeros((dcor.shape[0], dcor.shape[1], 2))\n",
    "    for i in range(dcor.shape[0]):\n",
    "        # Generate mask\n",
    "        mask = np.zeros(dcor.shape).astype(bool)\n",
    "        np.fill_diagonal(mask, True)\n",
    "        mask[i] = True\n",
    "        mask[:,i] = True\n",
    "        pdcor_strat[:,:,i][mask] = np.nan\n",
    "        err = np.nanstd(dcor - pdcor_strat[:,:,i], axis=1)/np.sqrt(5)\n",
    "        hubness_matrix[i,:,0] = np.nanmean(dcor - pdcor_strat[:,:,i], axis=0)\n",
    "        hubness_matrix[i,:,1] = err\n",
    "    return hubness_matrix\n",
    "\n",
    "def plot_hubness(hubness):\n",
    "    '''Plot hubness as Sankey graph'''\n",
    "    order = np.argsort(np.argsort(np.nanmean(hubness,axis=1))[::-1])\n",
    "    hubness = (hubness-0.2)/np.nanmean(hubness) \n",
    "    hubness = hubness/np.nansum(hubness, axis=0)\n",
    "    \n",
    "    edges = []\n",
    "    cnode = [rgb2hex(i) for i in colors]\n",
    "    clink = [f\"rgba({int(i[0]*255)},{int(i[1]*255)},{int(i[2]*255)},0.5)\" for i in colors]\n",
    "    for i in range(6):\n",
    "        for j in range(6):\n",
    "            if i == j: continue\n",
    "            edges.append( (int(i), int(j+6), hubness[i,j], clink[i]) )\n",
    "\n",
    "    edges = np.array(edges)\n",
    "    df = pd.DataFrame(edges, columns=['source', 'target', 'value', 'label'])\n",
    "    df['source'] = pd.Categorical(df['source'], regions)\n",
    "    df['target'] = pd.Categorical(df['target'], regions)\n",
    "    df.sort_values(['source', 'target'], inplace = True)\n",
    "\n",
    "    mylink = dict(\n",
    "        source=edges[:,0],\n",
    "        target=edges[:,1],\n",
    "        value = edges[:,2],\n",
    "        color = edges[:,3]\n",
    "    )\n",
    "\n",
    "    mynode = dict(\n",
    "        pad = 15,\n",
    "        thickness = 20,\n",
    "        line = dict(color = \"black\", width = 0.5),\n",
    "        label = ['']*12,\n",
    "        x = [0.001] * 6 + [0.7] * 6,\n",
    "        y = list(np.linspace(0.001, 0.999, 6)[order]) + list(np.linspace(0.001, 0.999, 6)), \n",
    "        color=cnode*2)\n",
    "\n",
    "    # mynode = dict(\n",
    "    #     pad = 15,\n",
    "    #     thickness = 20,\n",
    "    #     line = dict(color = \"black\", width = 0.5),\n",
    "    #     label = regions*2,\n",
    "    #     x = [0.001] * 6 + [0.999] * 6,\n",
    "    #     y = list(np.linspace(0.001, 0.999, 6)[order]) + list(np.linspace(0.001, 0.999, 6)), \n",
    "    #     color=cnode*2)\n",
    "\n",
    "    fig = go.Figure(data=[go.Sankey(link=mylink, node=mynode, arrangement='snap', orientation='v')])\n",
    "    fig.update_layout(width=800, height=600, font_family='Arial Black', font_size=15, font_color='black')\n",
    "    return fig\n",
    "\n",
    "def plot_hubness_bar(hubness, figsize=(6,5)):\n",
    "    '''Plot hubness as Sankey graph'''\n",
    "    hubness_m = np.nanmean(hubness[:,:,0],axis=1)\n",
    "    hubness_s = np.sqrt(np.nansum(hubness[:,:,1]**2, axis=1))/(hubness.shape[0]-1)\n",
    "    order = np.argsort(hubness_m)[::-1]\n",
    "\n",
    "    fig, ax = pl.subplots(figsize=figsize)\n",
    "    x = np.arange(hubness_m.shape[0])\n",
    "    ax.bar(x, hubness_m[order], color=np.array(colors)[order])\n",
    "    ax.errorbar(x, hubness_m[order], yerr=hubness_s[order], marker='.', ls='', capsize=2, color='k', ms=0, lw=1)\n",
    "    ax.set_xticks(x)\n",
    "    ax.set_xticklabels(np.array(regions)[order])\n",
    "    ax.set_yticks([0.,0.5])\n",
    "    #ax.set_ylabel('Shared representation')\n",
    "    \n",
    "    return fig, ax\n",
    "    \n",
    "    "
   ]
  },
  {
   "cell_type": "code",
   "execution_count": 4,
   "metadata": {},
   "outputs": [
    {
     "name": "stderr",
     "output_type": "stream",
     "text": [
      "c:\\Users\\rudit\\anaconda3\\envs\\mnp_torch\\lib\\site-packages\\numpy\\lib\\nanfunctions.py:1671: RuntimeWarning: Degrees of freedom <= 0 for slice.\n",
      "  keepdims=keepdims)\n",
      "c:\\Users\\rudit\\anaconda3\\envs\\mnp_torch\\lib\\site-packages\\ipykernel_launcher.py:95: RuntimeWarning: Mean of empty slice\n"
     ]
    }
   ],
   "source": [
    "dcor = np.load(r'D:\\Data\\DeepMouse\\Results\\representational_similarity\\dcor_nneuron-200_nstim-1000.npy')\n",
    "pdcor = np.load(r'D:\\Data\\DeepMouse\\Results\\representational_similarity\\pdcor_nneuron-200_nstim-1000.npy')\n",
    "pdcor_strat = np.load(r'D:\\Data\\DeepMouse\\Results\\representational_similarity\\pdcor_strat_nneuron-200_nstim-1000.npy')\n",
    "pdcor_strat0 = np.load(r'D:\\Data\\DeepMouse\\Results\\representational_similarity\\pdcor_strat00_nneuron-200_nstim-1000.npy')\n",
    "\n",
    "hubness = calculate_hubness(dcor, pdcor_strat)\n",
    "hubness0 = calculate_hubness(dcor, pdcor_strat0)"
   ]
  },
  {
   "cell_type": "code",
   "execution_count": 5,
   "metadata": {},
   "outputs": [
    {
     "data": {
      "image/png": "[encoded data removed]",
      "text/plain": [
       "<Figure size 240x240 with 1 Axes>"
      ]
     },
     "metadata": {},
     "output_type": "display_data"
    }
   ],
   "source": [
    "fig1 = plot_matrix(dcor, regions, figsize=(2.4,2.4))\n",
    "if save: fig1[0].savefig(os.path.join(savepath, 'dcor_matrix.png'),bbox_inches='tight', dpi=600)"
   ]
  },
  {
   "cell_type": "code",
   "execution_count": 6,
   "metadata": {},
   "outputs": [
    {
     "data": {
      "image/png": "[encoded data removed]",
      "text/plain": [
       "<Figure size 500x500 with 1 Axes>"
      ]
     },
     "metadata": {},
     "output_type": "display_data"
    }
   ],
   "source": [
    "fig2 = make_graph(dcor, regions, seed=2, theta=150, mirror=False, figsize=(5,5))\n",
    "if save: fig2[0].savefig(os.path.join(savepath, 'dcor_graph.pdf'),bbox_inches='tight')"
   ]
  },
  {
   "cell_type": "markdown",
   "metadata": {},
   "source": [
    "## 2. Partial distance correlation"
   ]
  },
  {
   "cell_type": "code",
   "execution_count": 7,
   "metadata": {},
   "outputs": [
    {
     "data": {
      "image/png": "[encoded data removed]",
      "text/plain": [
       "<Figure size 240x240 with 1 Axes>"
      ]
     },
     "metadata": {},
     "output_type": "display_data"
    }
   ],
   "source": [
    "fig3 = plot_matrix(pdcor, regions, figsize=(2.4,2.4))\n",
    "if save: fig3[0].savefig(os.path.join(savepath, 'pdcor_matrix.png'),bbox_inches='tight')"
   ]
  },
  {
   "cell_type": "code",
   "execution_count": 8,
   "metadata": {},
   "outputs": [
    {
     "data": {
      "image/png": "[encoded data removed]",
      "text/plain": [
       "<Figure size 500x500 with 1 Axes>"
      ]
     },
     "metadata": {},
     "output_type": "display_data"
    }
   ],
   "source": [
    "fig4 = make_graph(pdcor, regions, seed=0, theta=-90, mirror=False, figsize=(5,5))\n",
    "if save: fig4[0].savefig(os.path.join(savepath, 'pdcor_graph.pdf'),bbox_inches='tight')"
   ]
  },
  {
   "cell_type": "code",
   "execution_count": 9,
   "metadata": {},
   "outputs": [
    {
     "data": {
      "application/vnd.plotly.v1+json": {
       "config": {
        "plotlyServerURL": "https://plot.ly"
       },
       "data": [
        {
         "arrangement": "snap",
         "link": {
          "color": [
           "rgba(31,119,180,0.5)",
           "rgba(31,119,180,0.5)",
           "rgba(31,119,180,0.5)",
           "rgba(31,119,180,0.5)",
           "rgba(31,119,180,0.5)",
           "rgba(255,127,14,0.5)",
           "rgba(255,127,14,0.5)",
           "rgba(255,127,14,0.5)",
           "rgba(255,127,14,0.5)",
           "rgba(255,127,14,0.5)",
           "rgba(44,160,44,0.5)",
           "rgba(44,160,44,0.5)",
           "rgba(44,160,44,0.5)",
           "rgba(44,160,44,0.5)",
           "rgba(44,160,44,0.5)",
           "rgba(214,39,40,0.5)",
           "rgba(214,39,40,0.5)",
           "rgba(214,39,40,0.5)",
           "rgba(214,39,40,0.5)",
           "rgba(214,39,40,0.5)",
           "rgba(148,103,189,0.5)",
           "rgba(148,103,189,0.5)",
           "rgba(148,103,189,0.5)",
           "rgba(148,103,189,0.5)",
           "rgba(148,103,189,0.5)",
           "rgba(140,86,75,0.5)",
           "rgba(140,86,75,0.5)",
           "rgba(140,86,75,0.5)",
           "rgba(140,86,75,0.5)",
           "rgba(140,86,75,0.5)"
          ],
          "source": [
           "0",
           "0",
           "0",
           "0",
           "0",
           "1",
           "1",
           "1",
           "1",
           "1",
           "2",
           "2",
           "2",
           "2",
           "2",
           "3",
           "3",
           "3",
           "3",
           "3",
           "4",
           "4",
           "4",
           "4",
           "4",
           "5",
           "5",
           "5",
           "5",
           "5"
          ],
          "target": [
           "7",
           "8",
           "9",
           "10",
           "11",
           "6",
           "8",
           "9",
           "10",
           "11",
           "6",
           "7",
           "9",
           "10",
           "11",
           "6",
           "7",
           "8",
           "10",
           "11",
           "6",
           "7",
           "8",
           "9",
           "11",
           "6",
           "7",
           "8",
           "9",
           "10"
          ],
          "value": [
           "0.1560367203614058",
           "0.11839952845788528",
           "0.06653631518383263",
           "0.0983230989608464",
           "0.09479470786165246",
           "0.32286941155244975",
           "0.24616084734031934",
           "0.2445833761958913",
           "0.2734083420777631",
           "0.30965205306937776",
           "0.23749324195667276",
           "0.22454509217599303",
           "0.403675122459911",
           "0.22761625175527536",
           "0.2045225426807459",
           "0.0800695161091518",
           "0.12305276770568692",
           "0.25602112337462796",
           "0.08325495210981305",
           "0.07456061536686659",
           "0.18361909625117226",
           "0.22733691284765575",
           "0.2056576234045216",
           "0.14628121738382818",
           "0.3164700810213574",
           "0.1759487341305535",
           "0.26902850690925845",
           "0.17376087742264584",
           "0.1389239687765368",
           "0.3173973550963021"
          ]
         },
         "node": {
          "color": [
           "#1f77b4",
           "#ff7f0e",
           "#2ca02c",
           "#d62728",
           "#9467bd",
           "#8c564b",
           "#1f77b4",
           "#ff7f0e",
           "#2ca02c",
           "#d62728",
           "#9467bd",
           "#8c564b"
          ],
          "label": [
           "",
           "",
           "",
           "",
           "",
           "",
           "",
           "",
           "",
           "",
           "",
           ""
          ],
          "line": {
           "color": "black",
           "width": 0.5
          },
          "pad": 15,
          "thickness": 20,
          "x": [
           0.001,
           0.001,
           0.001,
           0.001,
           0.001,
           0.001,
           0.7,
           0.7,
           0.7,
           0.7,
           0.7,
           0.7
          ],
          "y": [
           0.999,
           0.001,
           0.2006,
           0.7994,
           0.4002,
           0.5998,
           0.001,
           0.2006,
           0.4002,
           0.5998,
           0.7994,
           0.999
          ]
         },
         "orientation": "v",
         "type": "sankey"
        }
       ],
       "layout": {
        "font": {
         "color": "black",
         "family": "Arial Black",
         "size": 15
        },
        "height": 600,
        "template": {
         "data": {
          "bar": [
           {
            "error_x": {
             "color": "#2a3f5f"
            },
            "error_y": {
             "color": "#2a3f5f"
            },
            "marker": {
             "line": {
              "color": "#E5ECF6",
              "width": 0.5
             },
             "pattern": {
              "fillmode": "overlay",
              "size": 10,
              "solidity": 0.2
             }
            },
            "type": "bar"
           }
          ],
          "barpolar": [
           {
            "marker": {
             "line": {
              "color": "#E5ECF6",
              "width": 0.5
             },
             "pattern": {
              "fillmode": "overlay",
              "size": 10,
              "solidity": 0.2
             }
            },
            "type": "barpolar"
           }
          ],
          "carpet": [
           {
            "aaxis": {
             "endlinecolor": "#2a3f5f",
             "gridcolor": "white",
             "linecolor": "white",
             "minorgridcolor": "white",
             "startlinecolor": "#2a3f5f"
            },
            "baxis": {
             "endlinecolor": "#2a3f5f",
             "gridcolor": "white",
             "linecolor": "white",
             "minorgridcolor": "white",
             "startlinecolor": "#2a3f5f"
            },
            "type": "carpet"
           }
          ],
          "choropleth": [
           {
            "colorbar": {
             "outlinewidth": 0,
             "ticks": ""
            },
            "type": "choropleth"
           }
          ],
          "contour": [
           {
            "colorbar": {
             "outlinewidth": 0,
             "ticks": ""
            },
            "colorscale": [
             [
              0,
              "#0d0887"
             ],
             [
              0.1111111111111111,
              "#46039f"
             ],
             [
              0.2222222222222222,
              "#7201a8"
             ],
             [
              0.3333333333333333,
              "#9c179e"
             ],
             [
              0.4444444444444444,
              "#bd3786"
             ],
             [
              0.5555555555555556,
              "#d8576b"
             ],
             [
              0.6666666666666666,
              "#ed7953"
             ],
             [
              0.7777777777777778,
              "#fb9f3a"
             ],
             [
              0.8888888888888888,
              "#fdca26"
             ],
             [
              1,
              "#f0f921"
             ]
            ],
            "type": "contour"
           }
          ],
          "contourcarpet": [
           {
            "colorbar": {
             "outlinewidth": 0,
             "ticks": ""
            },
            "type": "contourcarpet"
           }
          ],
          "heatmap": [
           {
            "colorbar": {
             "outlinewidth": 0,
             "ticks": ""
            },
            "colorscale": [
             [
              0,
              "#0d0887"
             ],
             [
              0.1111111111111111,
              "#46039f"
             ],
             [
              0.2222222222222222,
              "#7201a8"
             ],
             [
              0.3333333333333333,
              "#9c179e"
             ],
             [
              0.4444444444444444,
              "#bd3786"
             ],
             [
              0.5555555555555556,
              "#d8576b"
             ],
             [
              0.6666666666666666,
              "#ed7953"
             ],
             [
              0.7777777777777778,
              "#fb9f3a"
             ],
             [
              0.8888888888888888,
              "#fdca26"
             ],
             [
              1,
              "#f0f921"
             ]
            ],
            "type": "heatmap"
           }
          ],
          "heatmapgl": [
           {
            "colorbar": {
             "outlinewidth": 0,
             "ticks": ""
            },
            "colorscale": [
             [
              0,
              "#0d0887"
             ],
             [
              0.1111111111111111,
              "#46039f"
             ],
             [
              0.2222222222222222,
              "#7201a8"
             ],
             [
              0.3333333333333333,
              "#9c179e"
             ],
             [
              0.4444444444444444,
              "#bd3786"
             ],
             [
              0.5555555555555556,
              "#d8576b"
             ],
             [
              0.6666666666666666,
              "#ed7953"
             ],
             [
              0.7777777777777778,
              "#fb9f3a"
             ],
             [
              0.8888888888888888,
              "#fdca26"
             ],
             [
              1,
              "#f0f921"
             ]
            ],
            "type": "heatmapgl"
           }
          ],
          "histogram": [
           {
            "marker": {
             "pattern": {
              "fillmode": "overlay",
              "size": 10,
              "solidity": 0.2
             }
            },
            "type": "histogram"
           }
          ],
          "histogram2d": [
           {
            "colorbar": {
             "outlinewidth": 0,
             "ticks": ""
            },
            "colorscale": [
             [
              0,
              "#0d0887"
             ],
             [
              0.1111111111111111,
              "#46039f"
             ],
             [
              0.2222222222222222,
              "#7201a8"
             ],
             [
              0.3333333333333333,
              "#9c179e"
             ],
             [
              0.4444444444444444,
              "#bd3786"
             ],
             [
              0.5555555555555556,
              "#d8576b"
             ],
             [
              0.6666666666666666,
              "#ed7953"
             ],
             [
              0.7777777777777778,
              "#fb9f3a"
             ],
             [
              0.8888888888888888,
              "#fdca26"
             ],
             [
              1,
              "#f0f921"
             ]
            ],
            "type": "histogram2d"
           }
          ],
          "histogram2dcontour": [
           {
            "colorbar": {
             "outlinewidth": 0,
             "ticks": ""
            },
            "colorscale": [
             [
              0,
              "#0d0887"
             ],
             [
              0.1111111111111111,
              "#46039f"
             ],
             [
              0.2222222222222222,
              "#7201a8"
             ],
             [
              0.3333333333333333,
              "#9c179e"
             ],
             [
              0.4444444444444444,
              "#bd3786"
             ],
             [
              0.5555555555555556,
              "#d8576b"
             ],
             [
              0.6666666666666666,
              "#ed7953"
             ],
             [
              0.7777777777777778,
              "#fb9f3a"
             ],
             [
              0.8888888888888888,
              "#fdca26"
             ],
             [
              1,
              "#f0f921"
             ]
            ],
            "type": "histogram2dcontour"
           }
          ],
          "mesh3d": [
           {
            "colorbar": {
             "outlinewidth": 0,
             "ticks": ""
            },
            "type": "mesh3d"
           }
          ],
          "parcoords": [
           {
            "line": {
             "colorbar": {
              "outlinewidth": 0,
              "ticks": ""
             }
            },
            "type": "parcoords"
           }
          ],
          "pie": [
           {
            "automargin": true,
            "type": "pie"
           }
          ],
          "scatter": [
           {
            "fillpattern": {
             "fillmode": "overlay",
             "size": 10,
             "solidity": 0.2
            },
            "type": "scatter"
           }
          ],
          "scatter3d": [
           {
            "line": {
             "colorbar": {
              "outlinewidth": 0,
              "ticks": ""
             }
            },
            "marker": {
             "colorbar": {
              "outlinewidth": 0,
              "ticks": ""
             }
            },
            "type": "scatter3d"
           }
          ],
          "scattercarpet": [
           {
            "marker": {
             "colorbar": {
              "outlinewidth": 0,
              "ticks": ""
             }
            },
            "type": "scattercarpet"
           }
          ],
          "scattergeo": [
           {
            "marker": {
             "colorbar": {
              "outlinewidth": 0,
              "ticks": ""
             }
            },
            "type": "scattergeo"
           }
          ],
          "scattergl": [
           {
            "marker": {
             "colorbar": {
              "outlinewidth": 0,
              "ticks": ""
             }
            },
            "type": "scattergl"
           }
          ],
          "scattermapbox": [
           {
            "marker": {
             "colorbar": {
              "outlinewidth": 0,
              "ticks": ""
             }
            },
            "type": "scattermapbox"
           }
          ],
          "scatterpolar": [
           {
            "marker": {
             "colorbar": {
              "outlinewidth": 0,
              "ticks": ""
             }
            },
            "type": "scatterpolar"
           }
          ],
          "scatterpolargl": [
           {
            "marker": {
             "colorbar": {
              "outlinewidth": 0,
              "ticks": ""
             }
            },
            "type": "scatterpolargl"
           }
          ],
          "scatterternary": [
           {
            "marker": {
             "colorbar": {
              "outlinewidth": 0,
              "ticks": ""
             }
            },
            "type": "scatterternary"
           }
          ],
          "surface": [
           {
            "colorbar": {
             "outlinewidth": 0,
             "ticks": ""
            },
            "colorscale": [
             [
              0,
              "#0d0887"
             ],
             [
              0.1111111111111111,
              "#46039f"
             ],
             [
              0.2222222222222222,
              "#7201a8"
             ],
             [
              0.3333333333333333,
              "#9c179e"
             ],
             [
              0.4444444444444444,
              "#bd3786"
             ],
             [
              0.5555555555555556,
              "#d8576b"
             ],
             [
              0.6666666666666666,
              "#ed7953"
             ],
             [
              0.7777777777777778,
              "#fb9f3a"
             ],
             [
              0.8888888888888888,
              "#fdca26"
             ],
             [
              1,
              "#f0f921"
             ]
            ],
            "type": "surface"
           }
          ],
          "table": [
           {
            "cells": {
             "fill": {
              "color": "#EBF0F8"
             },
             "line": {
              "color": "white"
             }
            },
            "header": {
             "fill": {
              "color": "#C8D4E3"
             },
             "line": {
              "color": "white"
             }
            },
            "type": "table"
           }
          ]
         },
         "layout": {
          "annotationdefaults": {
           "arrowcolor": "#2a3f5f",
           "arrowhead": 0,
           "arrowwidth": 1
          },
          "autotypenumbers": "strict",
          "coloraxis": {
           "colorbar": {
            "outlinewidth": 0,
            "ticks": ""
           }
          },
          "colorscale": {
           "diverging": [
            [
             0,
             "#8e0152"
            ],
            [
             0.1,
             "#c51b7d"
            ],
            [
             0.2,
             "#de77ae"
            ],
            [
             0.3,
             "#f1b6da"
            ],
            [
             0.4,
             "#fde0ef"
            ],
            [
             0.5,
             "#f7f7f7"
            ],
            [
             0.6,
             "#e6f5d0"
            ],
            [
             0.7,
             "#b8e186"
            ],
            [
             0.8,
             "#7fbc41"
            ],
            [
             0.9,
             "#4d9221"
            ],
            [
             1,
             "#276419"
            ]
           ],
           "sequential": [
            [
             0,
             "#0d0887"
            ],
            [
             0.1111111111111111,
             "#46039f"
            ],
            [
             0.2222222222222222,
             "#7201a8"
            ],
            [
             0.3333333333333333,
             "#9c179e"
            ],
            [
             0.4444444444444444,
             "#bd3786"
            ],
            [
             0.5555555555555556,
             "#d8576b"
            ],
            [
             0.6666666666666666,
             "#ed7953"
            ],
            [
             0.7777777777777778,
             "#fb9f3a"
            ],
            [
             0.8888888888888888,
             "#fdca26"
            ],
            [
             1,
             "#f0f921"
            ]
           ],
           "sequentialminus": [
            [
             0,
             "#0d0887"
            ],
            [
             0.1111111111111111,
             "#46039f"
            ],
            [
             0.2222222222222222,
             "#7201a8"
            ],
            [
             0.3333333333333333,
             "#9c179e"
            ],
            [
             0.4444444444444444,
             "#bd3786"
            ],
            [
             0.5555555555555556,
             "#d8576b"
            ],
            [
             0.6666666666666666,
             "#ed7953"
            ],
            [
             0.7777777777777778,
             "#fb9f3a"
            ],
            [
             0.8888888888888888,
             "#fdca26"
            ],
            [
             1,
             "#f0f921"
            ]
           ]
          },
          "colorway": [
           "#636efa",
           "#EF553B",
           "#00cc96",
           "#ab63fa",
           "#FFA15A",
           "#19d3f3",
           "#FF6692",
           "#B6E880",
           "#FF97FF",
           "#FECB52"
          ],
          "font": {
           "color": "#2a3f5f"
          },
          "geo": {
           "bgcolor": "white",
           "lakecolor": "white",
           "landcolor": "#E5ECF6",
           "showlakes": true,
           "showland": true,
           "subunitcolor": "white"
          },
          "hoverlabel": {
           "align": "left"
          },
          "hovermode": "closest",
          "mapbox": {
           "style": "light"
          },
          "paper_bgcolor": "white",
          "plot_bgcolor": "#E5ECF6",
          "polar": {
           "angularaxis": {
            "gridcolor": "white",
            "linecolor": "white",
            "ticks": ""
           },
           "bgcolor": "#E5ECF6",
           "radialaxis": {
            "gridcolor": "white",
            "linecolor": "white",
            "ticks": ""
           }
          },
          "scene": {
           "xaxis": {
            "backgroundcolor": "#E5ECF6",
            "gridcolor": "white",
            "gridwidth": 2,
            "linecolor": "white",
            "showbackground": true,
            "ticks": "",
            "zerolinecolor": "white"
           },
           "yaxis": {
            "backgroundcolor": "#E5ECF6",
            "gridcolor": "white",
            "gridwidth": 2,
            "linecolor": "white",
            "showbackground": true,
            "ticks": "",
            "zerolinecolor": "white"
           },
           "zaxis": {
            "backgroundcolor": "#E5ECF6",
            "gridcolor": "white",
            "gridwidth": 2,
            "linecolor": "white",
            "showbackground": true,
            "ticks": "",
            "zerolinecolor": "white"
           }
          },
          "shapedefaults": {
           "line": {
            "color": "#2a3f5f"
           }
          },
          "ternary": {
           "aaxis": {
            "gridcolor": "white",
            "linecolor": "white",
            "ticks": ""
           },
           "baxis": {
            "gridcolor": "white",
            "linecolor": "white",
            "ticks": ""
           },
           "bgcolor": "#E5ECF6",
           "caxis": {
            "gridcolor": "white",
            "linecolor": "white",
            "ticks": ""
           }
          },
          "title": {
           "x": 0.05
          },
          "xaxis": {
           "automargin": true,
           "gridcolor": "white",
           "linecolor": "white",
           "ticks": "",
           "title": {
            "standoff": 15
           },
           "zerolinecolor": "white",
           "zerolinewidth": 2
          },
          "yaxis": {
           "automargin": true,
           "gridcolor": "white",
           "linecolor": "white",
           "ticks": "",
           "title": {
            "standoff": 15
           },
           "zerolinecolor": "white",
           "zerolinewidth": 2
          }
         }
        },
        "width": 800
       }
      }
     },
     "metadata": {},
     "output_type": "display_data"
    }
   ],
   "source": [
    "fig5 = plot_hubness(hubness[...,0]-hubness0[...,0])\n",
    "fig5.show()\n",
    "if save: fig5.write_html(os.path.join(savepath, 'hubness.html'))"
   ]
  },
  {
   "cell_type": "code",
   "execution_count": 10,
   "metadata": {},
   "outputs": [
    {
     "data": {
      "image/png": "[encoded data removed]",
      "text/plain": [
       "<Figure size 200x100 with 1 Axes>"
      ]
     },
     "metadata": {},
     "output_type": "display_data"
    }
   ],
   "source": [
    "fig52 = plot_hubness_bar(hubness, figsize=(2,1))\n",
    "if save: fig52[0].savefig(os.path.join(savepath, 'hubness_bar.pdf'),bbox_inches='tight')"
   ]
  },
  {
   "cell_type": "markdown",
   "metadata": {},
   "source": [
    "## 3. Spatial mask size"
   ]
  },
  {
   "cell_type": "code",
   "execution_count": 18,
   "metadata": {},
   "outputs": [],
   "source": [
    "# Plotting functions\n",
    "def get_spatial_mask_size(spatial):\n",
    "    '''Calculate the size of the spatial mask as the area of the Gaussian ellipse'''\n",
    "    popts, r2 = spatial['popts'], spatial['r2']\n",
    "    # popts are amplitude, xo, yo, sigma_x, sigma_y, theta, offset\n",
    "    sx, sy = 2*np.abs(popts[:,3]), 2*np.abs(popts[:,4])\n",
    "    area = sx*sy*np.pi\n",
    "\n",
    "    mask = r2 > 0.8\n",
    "    print(mask.sum()/mask.shape[0], mask.sum())\n",
    "    return area[mask]\n",
    "\n",
    "def plot_spatial_mask_size(data, regions, figsize=(6,5)):\n",
    "    '''Plot spatial mask size over regions'''\n",
    "    # Normalise to V1\n",
    "    norm = np.median(data[0])\n",
    "    data_norm = [d/norm for d in data]\n",
    "    data_m = [np.median(d) for d in data_norm]\n",
    "    data_s = [d.std()/np.sqrt(d.shape[0])*1.2533 for d in data_norm]\n",
    "    \n",
    "    fig, ax = pl.subplots(figsize=figsize)\n",
    "    bp1 = ax.boxplot(data_norm, showfliers=False, positions=np.arange(1, len(regions)+1), widths=0.5, \n",
    "                     patch_artist=True, medianprops=dict(color='k'))\n",
    "\n",
    "    for patch, color in zip(bp1['boxes'], colors):\n",
    "        patch.set_facecolor(color)\n",
    "\n",
    "    ax.set_xticklabels(regions)\n",
    "    ax.set_ylabel(\"Spatial mask area (norm. to V1)\")\n",
    "\n",
    "    return fig, ax\n",
    "\n",
    "def plot_spatial_mask_size_pie(data, regions, figsize=(6,5)):\n",
    "    '''Plot spatial mask size over regions as pie chart'''\n",
    "    # Normalise to V1\n",
    "    norm = np.median(data[0])\n",
    "    data_norm = [d/norm for d in data]\n",
    "    data_m = np.array([np.median(d) for d in data_norm])\n",
    "    data_s = np.array([[np.percentile(d, 25), np.percentile(d, 75)] for d in data_norm])\n",
    "\n",
    "    fig, ax = pl.subplots(figsize=figsize, subplot_kw=dict(projection=\"polar\"))\n",
    "    # Plot a single pie chart per region\n",
    "    ax.bar(np.arange(len(regions))/len(regions) * 2*np.pi, height=data_s[:,1]-data_s[:,0], bottom=data_s[:,0], width=np.pi*2/len(regions), color=colors, alpha=.75)\n",
    "    ax.bar(np.arange(len(regions))/len(regions) * 2*np.pi, height=0.04, bottom=data_m-0.02, width=np.pi*2/len(regions), color=colors)\n",
    "    ax.bar(np.arange(len(regions))/len(regions) * 2*np.pi, height=data_s[:,0], width=np.pi*2/len(regions), color=colors, alpha=0.5)\n",
    "\n",
    "    ticks = [0, 0.5, 1, 1.5]\n",
    "    for i in ticks:\n",
    "        ax.plot(np.linspace(0,2*np.pi, 100), np.ones(100)*i, ls='--', color='k', zorder=99, alpha=0.25)\n",
    "    ax.plot([0,0,0], [0, 1, 1.5], 'k-')\n",
    "    ax.scatter(np.zeros(len(ticks)), ticks, color='k', marker='|', linewidths=2)\n",
    "    ax.grid(False)\n",
    "    ax.spines['polar'].set_visible(False)\n",
    "    ax.set_ylim(0, 1.51)\n",
    "    ax.set_xticks(np.arange(len(regions))/len(regions) * 2*np.pi)\n",
    "    ax.set_xticklabels(regions)\n",
    "    ax.set_yticks([])\n",
    "\n",
    "    return fig, ax\n",
    "\n",
    "def plot_dist2spatial(dist, spatial, regions, figsize=(6,5)):\n",
    "    '''Plot distance from V1 vs spatial mask area'''\n",
    "    dist_m = 1-np.mean(dist, axis=-1)[0]\n",
    "    dist_m = dist_m-dist_m[0]\n",
    "    dist_m[0] = 0\n",
    "    dist_s = dist.std(axis=-1)[0]*1.2533\n",
    "\n",
    "    norm = np.median(spatial[0])\n",
    "    spatial_norm = [d/norm for d in spatial]\n",
    "    spatial_m = [np.median(d) for d in spatial_norm]\n",
    "    spatial_s = [d.std()/np.sqrt(d.shape[0])*1.2533 for d in spatial_norm]\n",
    "\n",
    "    # Compute linregress\n",
    "    x = np.concatenate([np.repeat(dist_m[i], spatial_norm[i].shape[0]) for i in range(len(dist))])\n",
    "    model = HuberRegressor()\n",
    "    model.fit(x.reshape(-1,1), np.concatenate(spatial_norm))\n",
    "    print(model.score(x.reshape(-1,1), np.concatenate(spatial_norm)))\n",
    "    p = np.polyfit(dist_m, spatial_m, deg=1)\n",
    "\n",
    "    fig, ax = pl.subplots(figsize=figsize)\n",
    "    for i, region in enumerate(regions):\n",
    "        ax.errorbar(dist_m[i], spatial_m[i], xerr=dist_s[i], yerr=spatial_s[i], marker='o', ls='', capsize=2, color=colors[i], lw=1, ms=4)\n",
    "    \n",
    "    ax.plot(np.linspace(0,1,10), np.polyval([model.coef_[0], model.intercept_], np.linspace(0,1,10)), ls='--', color=[.5]*3)\n",
    "    ax.set_xticks([0, 0.5, 1])\n",
    "    # ax.set_xlabel('Distance from V1 (1-pdcor)')\n",
    "    # ax.set_ylabel('Spatial mask area (norm. to V1)')\n",
    "\n",
    "    # Inset\n",
    "    axins = inset_axes(ax, width='80%', height='40%', bbox_to_anchor=(.125, .55, .3, .9), bbox_transform=(ax.transAxes), loc=3)\n",
    "    bp1 = axins.boxplot(spatial_norm, showfliers=False, positions=np.arange(1, len(regions)+1), widths=0.5, \n",
    "                     patch_artist=True, medianprops=dict(color='k', linewidth=1), boxprops=dict(linewidth=1), whiskerprops=dict(linewidth=1),\n",
    "                     capprops=dict(linewidth=1))\n",
    "\n",
    "    for patch, color in zip(bp1['boxes'], colors):\n",
    "        patch.set_facecolor(color)\n",
    "\n",
    "    axins.set_xticklabels(['']*len(regions))\n",
    "    axins.spines['top'].set_visible(False)\n",
    "    axins.spines['right'].set_visible(False)\n",
    "    axins.set_xticks([])\n",
    "\n",
    "    return fig, ax\n",
    "    "
   ]
  },
  {
   "cell_type": "code",
   "execution_count": 19,
   "metadata": {},
   "outputs": [
    {
     "name": "stdout",
     "output_type": "stream",
     "text": [
      "0.6777150916784203 961\n",
      "0.5459496255956433 802\n",
      "0.4766187050359712 530\n",
      "0.5121495327102804 548\n",
      "0.4699537750385208 610\n",
      "0.4794215795328142 431\n"
     ]
    }
   ],
   "source": [
    "# Filepath to data\n",
    "fp_spatial = r'D:\\Data\\DeepMouse\\Results\\representational_similarity'\n",
    "spatial_masks = [np.load(os.path.join(fp_spatial, f\"spatial_mask_fit_{region}.npy\"), allow_pickle=True).item() for region in regions]\n",
    "area = [get_spatial_mask_size(spatial) for spatial in spatial_masks]\n",
    "radius = [np.sqrt(a/np.pi) for a in area]"
   ]
  },
  {
   "cell_type": "code",
   "execution_count": 20,
   "metadata": {},
   "outputs": [
    {
     "data": {
      "image/png": "[encoded data removed]",
      "text/plain": [
       "<Figure size 500x500 with 1 Axes>"
      ]
     },
     "metadata": {},
     "output_type": "display_data"
    }
   ],
   "source": [
    "fig6 = plot_spatial_mask_size_pie(radius, regions, figsize=(5,5))\n",
    "if save: fig6[0].savefig(os.path.join(savepath, 'spatial_mask_radius.pdf'),bbox_inches='tight')"
   ]
  },
  {
   "cell_type": "code",
   "execution_count": 21,
   "metadata": {},
   "outputs": [
    {
     "data": {
      "image/png": "[encoded data removed]",
      "text/plain": [
       "<Figure size 350x500 with 1 Axes>"
      ]
     },
     "metadata": {},
     "output_type": "display_data"
    },
    {
     "data": {
      "image/png": "[encoded data removed]",
      "text/plain": [
       "<Figure size 400x400 with 1 Axes>"
      ]
     },
     "metadata": {},
     "output_type": "display_data"
    }
   ],
   "source": [
    "fig7 = plot_spatial_mask_size(area, regions, figsize=(3.5,5))\n",
    "if save: fig7[0].savefig(os.path.join(savepath, 'spatial_mask_area.pdf'),bbox_inches='tight')\n",
    "stats = posthoc_dunn(area, p_adjust='bonferroni') \n",
    "fig7_stats = plot_stats(np.array(stats), regions, figsize=(4,4))\n",
    "if save: fig7_stats.savefig(os.path.join(savepath, 'spatial_mask_area_stats.pdf'),bbox_inches='tight')"
   ]
  },
  {
   "cell_type": "code",
   "execution_count": 22,
   "metadata": {},
   "outputs": [
    {
     "name": "stdout",
     "output_type": "stream",
     "text": [
      "0.04653080197820203\n"
     ]
    },
    {
     "data": {
      "image/png": "[encoded data removed]",
      "text/plain": [
       "<Figure size 250x250 with 2 Axes>"
      ]
     },
     "metadata": {},
     "output_type": "display_data"
    }
   ],
   "source": [
    "fig8 = plot_dist2spatial(pdcor, area, regions, figsize=(2.5,2.5))\n",
    "if save: fig8[0].savefig(os.path.join(savepath, 'spatial_mask_distance.eps'),bbox_inches='tight')"
   ]
  },
  {
   "cell_type": "markdown",
   "metadata": {},
   "source": [
    "## 4. Predictability"
   ]
  },
  {
   "cell_type": "code",
   "execution_count": 23,
   "metadata": {},
   "outputs": [],
   "source": [
    "# Plotting functions\n",
    "def plot_matrix_full(data, regions, figsize=(6,5)):\n",
    "    '''Given distance correlation data (region, region, nrepeat), plot as matrix'''\n",
    "    data_m = data.mean(axis=-1)\n",
    "    data_s = data.std(axis=-1)\n",
    "    mask = np.tri(data_m.shape[0], k=-1).T\n",
    "    data_diff = (data_m-data_m.min())/(data_m.max()-data_m.min())\n",
    "\n",
    "    fig, ax = pl.subplots(figsize=figsize)\n",
    "    ax.imshow(data_m, cmap='Reds', vmin=data_m.min(), vmax=data_m.max())\n",
    "    for i in range(len(regions)):\n",
    "        for j in range(len(regions)):\n",
    "            if data_diff[i,j] < 0.5: color = [0]*3\n",
    "            else: color = [1] * 3\n",
    "            ax.text(j,i, f\"{data_m[i,j]:.3f}\\n±{data_s[i,j]:.3f}\", ha='center', va='center', size=6, color=color)\n",
    "    ax.set_xticks(range(data.shape[0]))\n",
    "    ax.set_xticklabels(regions)\n",
    "    ax.set_yticks(range(data.shape[0]))\n",
    "    ax.set_yticklabels(regions)\n",
    "    ax.invert_yaxis()\n",
    "    ax.spines['top'].set_visible(False)\n",
    "    ax.spines['right'].set_visible(False)\n",
    "    ax.spines['bottom'].set_visible(False)\n",
    "    ax.spines['left'].set_visible(False)\n",
    "    ax.xaxis.set_ticks_position('none')\n",
    "    ax.yaxis.set_ticks_position('none')\n",
    "\n",
    "    ax.set_xlabel(\"Target\")\n",
    "    ax.set_ylabel(\"Source\")\n",
    "\n",
    "    return fig, ax\n",
    "\n",
    "def plot_predictability(data, regions, figsize=(6,5)):\n",
    "    '''Plot predictability defined as the average across sources'''\n",
    "    predictability = data.mean(axis=-1).mean(axis=0)\n",
    "    sem = data.std(axis=-1)/np.sqrt(data.shape[-1])\n",
    "    sem = np.sqrt((sem**2).sum(axis=0))\n",
    "\n",
    "    fig, ax = pl.subplots(figsize=figsize)\n",
    "    ax.errorbar(np.arange(len(regions)), predictability, yerr=sem, marker='o', ls='', capsize=5, color='k')\n",
    "    ax.set_xticks(np.arange(len(regions)))\n",
    "    ax.set_xticklabels(regions)\n",
    "    ax.set_ylabel(\"Mean predictability (r2)\")\n",
    "\n",
    "    return fig, ax"
   ]
  },
  {
   "cell_type": "code",
   "execution_count": 24,
   "metadata": {},
   "outputs": [
    {
     "ename": "FileNotFoundError",
     "evalue": "[Errno 2] No such file or directory: 'D:\\\\Data\\\\DeepMouse\\\\Results\\\\representational_similarity\\\\linear_predicatbility_pls_cv-5.npy'",
     "output_type": "error",
     "traceback": [
      "\u001b[1;31m---------------------------------------------------------------------------\u001b[0m",
      "\u001b[1;31mFileNotFoundError\u001b[0m                         Traceback (most recent call last)",
      "\u001b[1;32m~\\AppData\\Local\\Temp\\ipykernel_12216\\2249758072.py\u001b[0m in \u001b[0;36m<module>\u001b[1;34m\u001b[0m\n\u001b[0;32m      2\u001b[0m \u001b[0mfp_predict0\u001b[0m \u001b[1;33m=\u001b[0m \u001b[1;34mr'D:\\Data\\DeepMouse\\Results\\representational_similarity\\linear_predicatbility_pls0_cv-5.npy'\u001b[0m\u001b[1;33m\u001b[0m\u001b[1;33m\u001b[0m\u001b[0m\n\u001b[0;32m      3\u001b[0m \u001b[1;33m\u001b[0m\u001b[0m\n\u001b[1;32m----> 4\u001b[1;33m \u001b[0mpls_predict\u001b[0m \u001b[1;33m=\u001b[0m \u001b[0mnp\u001b[0m\u001b[1;33m.\u001b[0m\u001b[0mload\u001b[0m\u001b[1;33m(\u001b[0m\u001b[0mfp_predict\u001b[0m\u001b[1;33m)\u001b[0m\u001b[1;33m\u001b[0m\u001b[1;33m\u001b[0m\u001b[0m\n\u001b[0m\u001b[0;32m      5\u001b[0m \u001b[0mpls_predict0\u001b[0m \u001b[1;33m=\u001b[0m \u001b[0mnp\u001b[0m\u001b[1;33m.\u001b[0m\u001b[0mload\u001b[0m\u001b[1;33m(\u001b[0m\u001b[0mfp_predict0\u001b[0m\u001b[1;33m)\u001b[0m\u001b[1;33m\u001b[0m\u001b[1;33m\u001b[0m\u001b[0m\n",
      "\u001b[1;32mc:\\Users\\rudit\\anaconda3\\envs\\mnp_torch\\lib\\site-packages\\numpy\\lib\\npyio.py\u001b[0m in \u001b[0;36mload\u001b[1;34m(file, mmap_mode, allow_pickle, fix_imports, encoding)\u001b[0m\n\u001b[0;32m    415\u001b[0m             \u001b[0mown_fid\u001b[0m \u001b[1;33m=\u001b[0m \u001b[1;32mFalse\u001b[0m\u001b[1;33m\u001b[0m\u001b[1;33m\u001b[0m\u001b[0m\n\u001b[0;32m    416\u001b[0m         \u001b[1;32melse\u001b[0m\u001b[1;33m:\u001b[0m\u001b[1;33m\u001b[0m\u001b[1;33m\u001b[0m\u001b[0m\n\u001b[1;32m--> 417\u001b[1;33m             \u001b[0mfid\u001b[0m \u001b[1;33m=\u001b[0m \u001b[0mstack\u001b[0m\u001b[1;33m.\u001b[0m\u001b[0menter_context\u001b[0m\u001b[1;33m(\u001b[0m\u001b[0mopen\u001b[0m\u001b[1;33m(\u001b[0m\u001b[0mos_fspath\u001b[0m\u001b[1;33m(\u001b[0m\u001b[0mfile\u001b[0m\u001b[1;33m)\u001b[0m\u001b[1;33m,\u001b[0m \u001b[1;34m\"rb\"\u001b[0m\u001b[1;33m)\u001b[0m\u001b[1;33m)\u001b[0m\u001b[1;33m\u001b[0m\u001b[1;33m\u001b[0m\u001b[0m\n\u001b[0m\u001b[0;32m    418\u001b[0m             \u001b[0mown_fid\u001b[0m \u001b[1;33m=\u001b[0m \u001b[1;32mTrue\u001b[0m\u001b[1;33m\u001b[0m\u001b[1;33m\u001b[0m\u001b[0m\n\u001b[0;32m    419\u001b[0m \u001b[1;33m\u001b[0m\u001b[0m\n",
      "\u001b[1;31mFileNotFoundError\u001b[0m: [Errno 2] No such file or directory: 'D:\\\\Data\\\\DeepMouse\\\\Results\\\\representational_similarity\\\\linear_predicatbility_pls_cv-5.npy'"
     ]
    }
   ],
   "source": [
    "fp_predict = r'D:\\Data\\DeepMouse\\Results\\representational_similarity\\linear_predicatbility_pls_cv-5.npy'\n",
    "fp_predict0 = r'D:\\Data\\DeepMouse\\Results\\representational_similarity\\linear_predicatbility_pls0_cv-5.npy'\n",
    "\n",
    "pls_predict = np.load(fp_predict)\n",
    "pls_predict0 = np.load(fp_predict0)"
   ]
  },
  {
   "cell_type": "code",
   "execution_count": null,
   "metadata": {},
   "outputs": [
    {
     "ename": "NameError",
     "evalue": "name 'pls_predict' is not defined",
     "output_type": "error",
     "traceback": [
      "\u001b[1;31m---------------------------------------------------------------------------\u001b[0m",
      "\u001b[1;31mNameError\u001b[0m                                 Traceback (most recent call last)",
      "\u001b[1;32m~\\AppData\\Local\\Temp\\ipykernel_17152\\2572251089.py\u001b[0m in \u001b[0;36m<module>\u001b[1;34m\u001b[0m\n\u001b[1;32m----> 1\u001b[1;33m \u001b[0mfig9\u001b[0m \u001b[1;33m=\u001b[0m \u001b[0mplot_matrix_full\u001b[0m\u001b[1;33m(\u001b[0m\u001b[0mpls_predict\u001b[0m\u001b[1;33m,\u001b[0m \u001b[0mregions\u001b[0m\u001b[1;33m)\u001b[0m\u001b[1;33m\u001b[0m\u001b[1;33m\u001b[0m\u001b[0m\n\u001b[0m\u001b[0;32m      2\u001b[0m \u001b[1;32mif\u001b[0m \u001b[0msave\u001b[0m\u001b[1;33m:\u001b[0m \u001b[0mfig9\u001b[0m\u001b[1;33m[\u001b[0m\u001b[1;36m0\u001b[0m\u001b[1;33m]\u001b[0m\u001b[1;33m.\u001b[0m\u001b[0msavefig\u001b[0m\u001b[1;33m(\u001b[0m\u001b[0mos\u001b[0m\u001b[1;33m.\u001b[0m\u001b[0mpath\u001b[0m\u001b[1;33m.\u001b[0m\u001b[0mjoin\u001b[0m\u001b[1;33m(\u001b[0m\u001b[0msavepath\u001b[0m\u001b[1;33m,\u001b[0m \u001b[1;34m'linear_predictability_matrix.pdf'\u001b[0m\u001b[1;33m)\u001b[0m\u001b[1;33m)\u001b[0m\u001b[1;33m\u001b[0m\u001b[1;33m\u001b[0m\u001b[0m\n",
      "\u001b[1;31mNameError\u001b[0m: name 'pls_predict' is not defined"
     ]
    }
   ],
   "source": [
    "fig9 = plot_matrix_full(pls_predict, regions)\n",
    "if save: fig9[0].savefig(os.path.join(savepath, 'linear_predictability_matrix.pdf'))"
   ]
  },
  {
   "cell_type": "code",
   "execution_count": null,
   "metadata": {},
   "outputs": [
    {
     "data": {
      "image/png": "[encoded data removed]",
      "text/plain": [
       "<Figure size 600x300 with 1 Axes>"
      ]
     },
     "metadata": {},
     "output_type": "display_data"
    }
   ],
   "source": [
    "fig10 = plot_predictability(pls_predict, regions, figsize=(6,3))\n",
    "if save: fig10[0].savefig(os.path.join(savepath, 'linear_predictability.pdf'))"
   ]
  }
 ],
 "metadata": {
  "kernelspec": {
   "display_name": "mnp_torch",
   "language": "python",
   "name": "python3"
  },
  "language_info": {
   "codemirror_mode": {
    "name": "ipython",
    "version": 3
   },
   "file_extension": ".py",
   "mimetype": "text/x-python",
   "name": "python",
   "nbconvert_exporter": "python",
   "pygments_lexer": "ipython3",
   "version": "3.7.13"
  },
  "orig_nbformat": 4
 },
 "nbformat": 4,
 "nbformat_minor": 2
}
