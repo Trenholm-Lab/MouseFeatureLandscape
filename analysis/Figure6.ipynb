{
 "cells": [
  {
   "cell_type": "markdown",
   "metadata": {},
   "source": [
    "# Figure 6\n",
    "1. In silico generalisation\n",
    "2. In vivo variance\n",
    "3. Wdf mean"
   ]
  },
  {
   "cell_type": "code",
   "execution_count": 1,
   "metadata": {},
   "outputs": [],
   "source": [
    "from utils import *\n",
    "from plot_params import *\n",
    "from scipy.stats import pearsonr, kurtosis\n",
    "from scikit_posthocs import posthoc_dunn\n",
    "from scipy.stats import iqr\n",
    "from scipy.special import xlogy"
   ]
  },
  {
   "cell_type": "code",
   "execution_count": 2,
   "metadata": {},
   "outputs": [],
   "source": [
    "save = True\n",
    "savepath = r'D:\\Data\\DeepMouse\\Figures\\Figure6'"
   ]
  },
  {
   "cell_type": "markdown",
   "metadata": {},
   "source": [
    "## 1. In silico generalisation"
   ]
  },
  {
   "cell_type": "code",
   "execution_count": 3,
   "metadata": {},
   "outputs": [],
   "source": [
    "# Plot functions\n",
    "def unpack_data(activation, regions, predictions, masks, prob, N=200, mode='mean'):\n",
    "    '''Given a dictionary of activations, unpack the dictionary, and calculate the average activity'''\n",
    "    out = []\n",
    "    all_data = np.concatenate([activation[region] for region in regions])\n",
    "    scaler = StandardScaler()\n",
    "    scaler.fit(all_data)\n",
    "    for i, region in enumerate(regions):\n",
    "        data = activation[region]\n",
    "        data = data[predictions[i]]\n",
    "        data = scaler.transform(data)\n",
    "        # Take only most representative\n",
    "        idx = np.argsort(prob[region][masks[i]])[-N:]\n",
    "        if mode == 'mean': out.append(data[masks[i]][idx].mean(axis=1))\n",
    "        elif mode == 'l2': out.append(np.linalg.norm(data[masks[i]][idx],axis=1))\n",
    "        elif mode == 'var': out.append(data[masks[i]][idx].var(axis=0))\n",
    "        elif mode == 'popvar': out.append(data[masks[i]][idx].var(axis=1))\n",
    "        elif mode == 'entropy': out.append(get_entropy(data[masks[i]][idx], binrange=([-3,3])))\n",
    "        elif mode == 'kurtosis': out.append(kurtosis(data[masks[i]][idx], axis=0))\n",
    "        elif mode == 'minmax': out.append(np.max(data[masks[i]][idx], axis=0)-np.min(data[masks[i]], axis=0))\n",
    "        elif mode == 'minmax': out.append(iqr(data[masks[i]][idx], axis=0))\n",
    "        elif mode == '25p': out.append(np.percentile(data[masks[i]][idx], 10, axis=0))\n",
    "        elif mode == '75p': out.append(np.percentile(data[masks[i]][idx], 90, axis=0))\n",
    "\n",
    "        else: raise\n",
    "    return out\n",
    "\n",
    "def get_entropy(X, binrange=([-3,3])):\n",
    "    '''Calculate the von Neumann entropy'''\n",
    "    N = 1000\n",
    "    bins = np.linspace(binrange[0], binrange[1], N)\n",
    "    dbin = bins[1]-bins[0]\n",
    "    entropy = np.array([shannon_entropy(np.histogram(X[:,i], bins=bins, density=True)[0]*dbin)/np.log(N) for i in range(X.shape[1])])\n",
    "    return entropy \n",
    "\n",
    "def shannon_entropy(x):\n",
    "    return -np.sum(xlogy(x,x))\n",
    "\n",
    "def plot_generalisation(activity, regions, figsize=(6,5), ylabel=''):\n",
    "    '''Plot a list of boxplots'''\n",
    "    fig, ax = pl.subplots(figsize=figsize)\n",
    "    xticks = []\n",
    "    for i, region in enumerate(regions):\n",
    "        x = np.arange(len(regions)) + i*(len(regions)+1.5) + 1\n",
    "        xticks.append(x)\n",
    "    \n",
    "    xticks = np.array(xticks).T\n",
    "    lw = 0.5\n",
    "    for i, region in enumerate(regions):\n",
    "        bp1 = ax.boxplot(activity[i], showfliers=False, positions=xticks[i], widths=0.6, \n",
    "                     patch_artist=True, medianprops=dict(color='k', linewidth=lw), boxprops=dict(linewidth=lw), whiskerprops=dict(linewidth=lw),\n",
    "                     capprops=dict(linewidth=lw))\n",
    "\n",
    "        for patch, color in zip(bp1['boxes'], colors):\n",
    "            patch.set_facecolor(colors[i])\n",
    "\n",
    "    ax.set_ylabel(ylabel)\n",
    "    ax.set_xlim(0, np.concatenate(xticks).max()+1)\n",
    "    ax.set_xticklabels(['']*6*len(regions))\n",
    "    ax.set_xticks([])\n",
    "\n",
    "    return fig\n",
    "\n",
    "def plot_matrix(activity, regions, figsize=(6,5), ylabel=''):\n",
    "    '''Plot pairwise stats as matrix'''\n",
    "    # Convert data to matrix\n",
    "    mat = np.zeros((len(regions), len(regions)))\n",
    "    for i in range(len(activity)):\n",
    "        for j in range(len(activity)):\n",
    "            mat[i,j] = np.median(activity[i][j])\n",
    "\n",
    "    fig, ax = pl.subplots(figsize=figsize)\n",
    "    ax.imshow(mat, cmap='gray', vmin=mat.min(), vmax=mat.max())\n",
    "\n",
    "    # for i in range(len(regions)):\n",
    "    #     for j in range(len(regions)):\n",
    "    #         if mat[i,j] < 0.5: color = [0]*3\n",
    "    #         else: color = [1] * 3\n",
    "    #         ax.text(j,i, f\"{data_m[i,j]:.2f}\\n±{data_s[i,j]:.2f}\", ha='center', va='center', size=6, color=color)\n",
    "\n",
    "    ax.set_xticks(range(mat.shape[0]))\n",
    "    ax.set_xticklabels(regions)\n",
    "    ax.set_yticks(range(mat.shape[0]))\n",
    "    ax.set_yticklabels(regions)\n",
    "    ax.spines['top'].set_visible(False)\n",
    "    ax.spines['right'].set_visible(False)\n",
    "    ax.spines['bottom'].set_visible(False)\n",
    "    ax.spines['left'].set_visible(False)\n",
    "    ax.xaxis.set_ticks_position('none')\n",
    "    ax.yaxis.set_ticks_position('none')\n",
    "\n",
    "    return fig\n",
    "\n",
    "def plot_generalisation_simplified(activity, regions, figsize=(6,5), ylabel='', ylim=None, yticks=None):\n",
    "    '''Plot a list of boxplots'''\n",
    "    fig, ax = pl.subplots(figsize=figsize)\n",
    "\n",
    "    lw = 0.5\n",
    "    for i in range(len(regions)):\n",
    "        data = [activity[i][i], np.concatenate([activity[i][j] for j in range(len(activity[i])) if j != i])]\n",
    "        print(f\"{regions[i]}: {mannwhitneyu(data[0],data[1])}\")\n",
    "        bp1 = ax.boxplot(data, showfliers=False, positions=np.arange(1,3)+i*2+i, widths=0.6, \n",
    "                        patch_artist=True, medianprops=dict(color='k', linewidth=lw), boxprops=dict(linewidth=lw), whiskerprops=dict(linewidth=lw),\n",
    "                        capprops=dict(linewidth=lw))\n",
    "\n",
    "        cs = [colors[i], [.4]*3]\n",
    "        for patch, color in zip(bp1['boxes'], cs):\n",
    "            patch.set_facecolor(color)\n",
    "\n",
    "    ax.set_ylabel(ylabel)\n",
    "    ax.set_xlim(0,len(regions)*2+len(regions))\n",
    "    ax.set_xticks(np.arange(1.5, (len(regions))*3, 3))\n",
    "    ax.set_xticklabels(regions)\n",
    "    if ylim is not None:\n",
    "        ax.set_ylim(ylim)\n",
    "    if yticks is not None:\n",
    "        ax.set_yticklabels(yticks)\n",
    "\n",
    "    return fig\n",
    "\n",
    "def plot_generalisation_single(activity, regions, figsize=(6,5), ylabel=''):\n",
    "    '''Plot a list of boxplots'''\n",
    "    fig, ax = pl.subplots(figsize=figsize)\n",
    "\n",
    "    lw = 0.5\n",
    "    for i in range(len(regions)):\n",
    "        data = [activity[i][i]/np.concatenate([activity[i][j] for j in range(len(activity[i])) if j != i]).mean(axis=0)]\n",
    "        bp1 = ax.boxplot(data, showfliers=False, positions=[1+i*2+i], widths=0.6, \n",
    "                        patch_artist=True, medianprops=dict(color='k', linewidth=lw), boxprops=dict(linewidth=lw), whiskerprops=dict(linewidth=lw),\n",
    "                        capprops=dict(linewidth=lw))\n",
    "\n",
    "        cs = [colors[i]]\n",
    "        for patch, color in zip(bp1['boxes'], cs):\n",
    "            patch.set_facecolor(color)\n",
    "\n",
    "    ax.set_ylabel(ylabel)\n",
    "    ax.set_xlim(0,len(regions)*2+len(regions))\n",
    "    ax.set_xticks(np.arange(1.5, (len(regions))*3, 3))\n",
    "    ax.set_xticklabels(regions)\n",
    "\n",
    "    return fig\n",
    "\n",
    "def test_significance(data):\n",
    "    '''Perform kruskal wallis with post hoc dunns'''\n",
    "    # Sort data correctly\n",
    "    stats = []\n",
    "    for i in range(len(data)):\n",
    "        d = []\n",
    "        for j in range(len(data)):\n",
    "            d.append(data[j][i])\n",
    "        stats.append(posthoc_dunn(d, p_adjust='bonferroni'))\n",
    "    return stats\n",
    "    \n",
    "def plot_percentile(activity25, activity75, regions, figsize=(6,5), ylabel='', ylim=None, yticks=None):\n",
    "    '''Plot a list of boxplots'''\n",
    "    fig, ax = pl.subplots(figsize=figsize)\n",
    "\n",
    "    lw = 0.5\n",
    "    for i in range(len(regions)):\n",
    "        data25 = [activity25[i][i], np.concatenate([activity25[i][j] for j in range(len(activity25[i])) if j != i])]\n",
    "        bp1 = ax.boxplot(data25, showfliers=False, positions=np.arange(1,3)+i*2+i, widths=0.6, \n",
    "                        patch_artist=True, medianprops=dict(color='k', linewidth=lw), boxprops=dict(linewidth=lw), whiskerprops=dict(linewidth=lw),\n",
    "                        capprops=dict(linewidth=lw))\n",
    "\n",
    "        cs = [colors[i], [.4]*3]\n",
    "        for patch, color in zip(bp1['boxes'], cs):\n",
    "            patch.set_facecolor(color)\n",
    "\n",
    "    for i in range(len(regions)):\n",
    "        data75 = [activity75[i][i], np.concatenate([activity75[i][j] for j in range(len(activity75[i])) if j != i])]\n",
    "        bp1 = ax.boxplot(data75, showfliers=False, positions=np.arange(1,3)+i*2+i, widths=0.6, \n",
    "                        patch_artist=True, medianprops=dict(color='k', linewidth=lw), boxprops=dict(linewidth=lw), whiskerprops=dict(linewidth=lw),\n",
    "                        capprops=dict(linewidth=lw))\n",
    "\n",
    "        cs = [colors[i], [.4]*3]\n",
    "        for patch, color in zip(bp1['boxes'], cs):\n",
    "            patch.set_facecolor(color)\n",
    "\n",
    "    ax.set_ylabel(ylabel)\n",
    "    ax.set_xlim(0,len(regions)*2+len(regions))\n",
    "    ax.set_xticks(np.arange(1.5, (len(regions))*3, 3))\n",
    "    ax.set_xticklabels(regions)\n",
    "    if ylim is not None:\n",
    "        ax.set_ylim(ylim)\n",
    "    if yticks is not None:\n",
    "        ax.set_yticklabels(yticks)\n",
    "\n",
    "    return fig\n",
    "    "
   ]
  },
  {
   "cell_type": "code",
   "execution_count": 4,
   "metadata": {},
   "outputs": [],
   "source": [
    "# Load activations\n",
    "fp_cross = r'D:\\Data\\DeepMouse\\Results\\generalisation'\n",
    "fp_nc = r'D:\\Data\\DeepMouse\\Results\\noise_ceiling'\n",
    "activations = [np.load(os.path.join(fp_cross, f\"cross_presentation_{region}.npy\"), allow_pickle=True).item() for region in regions]\n",
    "\n",
    "# Load predictions\n",
    "predictions = [load_performance(fp_nc, region) > 0.3 for region in regions]\n",
    "\n",
    "# Load representative probabilities\n",
    "fp_prob = r'D:\\Data\\DeepMouse\\Results\\representative_images\\raw_probabilities.npy'\n",
    "prob = np.load(fp_prob, allow_pickle=True).item()\n",
    "\n",
    "# Get masks\n",
    "fp_opt = r'D:\\Data\\DeepMouse\\Results\\optstims\\RF_aligned'\n",
    "masks = [np.load(os.path.join(fp_opt, f'good_optstim_{region}.npy')) for region in regions]\n",
    "\n",
    "N = 2000\n",
    "activity_mean = [unpack_data(activation, regions, predictions, masks, prob, N=N, mode='mean') for i, activation in enumerate(activations)]\n",
    "activity_l2 = [unpack_data(activation, regions, predictions, masks, prob, N=N, mode='l2') for i, activation in enumerate(activations)]\n",
    "activity_var = [unpack_data(activation, regions, predictions, masks, prob, N=N, mode='var') for i, activation in enumerate(activations)]\n",
    "activity_popvar = [unpack_data(activation, regions, predictions, masks, prob, N=N, mode='popvar') for i, activation in enumerate(activations)]\n",
    "activity_25 = [unpack_data(activation, regions, predictions, masks, prob, N=N, mode='25p') for i, activation in enumerate(activations)]\n",
    "activity_75 = [unpack_data(activation, regions, predictions, masks, prob, N=N, mode='75p') for i, activation in enumerate(activations)]\n",
    "\n",
    "activity_kur = [unpack_data(activation, regions, predictions, masks, prob, N=N, mode='kurtosis') for i, activation in enumerate(activations)]\n",
    "activity_minmax = [unpack_data(activation, regions, predictions, masks, prob, N=N, mode='minmax') for i, activation in enumerate(activations)]\n",
    "activity_entr = [unpack_data(activation, regions, predictions, masks, prob, N=N, mode='entropy') for i, activation in enumerate(activations)]\n",
    "\n",
    "for i in range(len(regions)):\n",
    "    m, s = np.concatenate(activity_l2[i]).mean(), np.concatenate(activity_l2[i]).std()\n",
    "    for j in range(len(activity_l2[i])):\n",
    "        activity_l2[i][j] = (activity_l2[i][j]-m)/s\n"
   ]
  },
  {
   "cell_type": "code",
   "execution_count": 5,
   "metadata": {},
   "outputs": [
    {
     "name": "stdout",
     "output_type": "stream",
     "text": [
      "7266\n"
     ]
    }
   ],
   "source": [
    "print(np.sum([i.sum() for i in predictions]))"
   ]
  },
  {
   "cell_type": "code",
   "execution_count": 6,
   "metadata": {},
   "outputs": [
    {
     "name": "stdout",
     "output_type": "stream",
     "text": [
      "V1: MannwhitneyuResult(statistic=6016366.5, pvalue=1.477263390978963e-243)\n",
      "LM: MannwhitneyuResult(statistic=4525976.0, pvalue=2.081518351267267e-21)\n",
      "LI: MannwhitneyuResult(statistic=3351319.0, pvalue=2.93565563602669e-06)\n",
      "POR: MannwhitneyuResult(statistic=3357650.0, pvalue=6.795215151433349e-10)\n",
      "AL: MannwhitneyuResult(statistic=4807986.5, pvalue=4.083769282092384e-87)\n",
      "RL: MannwhitneyuResult(statistic=3373422.0, pvalue=5.617038301815293e-43)\n"
     ]
    },
    {
     "name": "stderr",
     "output_type": "stream",
     "text": [
      "c:\\Users\\rudit\\anaconda3\\envs\\mnp_torch\\lib\\site-packages\\ipykernel_launcher.py:117: UserWarning: FixedFormatter should only be used together with FixedLocator\n"
     ]
    },
    {
     "data": {
      "image/png": "[encoded data removed]",
      "text/plain": [
       "<Figure size 300x200 with 1 Axes>"
      ]
     },
     "metadata": {},
     "output_type": "display_data"
    },
    {
     "data": {
      "image/png": "[encoded data removed]",
      "text/plain": [
       "<Figure size 150x200 with 1 Axes>"
      ]
     },
     "metadata": {},
     "output_type": "display_data"
    },
    {
     "data": {
      "image/png": "[encoded data removed]",
      "text/plain": [
       "<Figure size 500x500 with 1 Axes>"
      ]
     },
     "metadata": {},
     "output_type": "display_data"
    }
   ],
   "source": [
    "fig1 = plot_generalisation(activity_mean, regions, figsize=(3,2), ylabel='Average activity')\n",
    "stats_mean = test_significance(activity_mean)\n",
    "# for i in range(len(stats_mean)): \n",
    "#     print(stats_mean[i][i+1] < 0.05)\n",
    "\n",
    "fig11 = plot_generalisation_simplified(activity_mean, regions, figsize=(1.5,2), ylabel='', ylim=(-1,1.2), yticks=['-1','','0','','1'])\n",
    "\n",
    "fig12 = plot_matrix(activity_mean, regions, figsize=(5,5), ylabel='Average activity')\n",
    "\n",
    "if save:\n",
    "    fig11.savefig(os.path.join(savepath, 'average_activity.eps'), bbox_inches='tight')"
   ]
  },
  {
   "cell_type": "code",
   "execution_count": 7,
   "metadata": {},
   "outputs": [
    {
     "name": "stdout",
     "output_type": "stream",
     "text": [
      "V1: MannwhitneyuResult(statistic=5865341.0, pvalue=1.076507031447403e-211)\n",
      "LM: MannwhitneyuResult(statistic=5055175.5, pvalue=9.234184945508531e-68)\n",
      "LI: MannwhitneyuResult(statistic=3931347.0, pvalue=4.643318317487897e-47)\n",
      "POR: MannwhitneyuResult(statistic=4521968.0, pvalue=1.4087486148137733e-148)\n",
      "AL: MannwhitneyuResult(statistic=5709690.5, pvalue=1.522263123811701e-251)\n",
      "RL: MannwhitneyuResult(statistic=3683973.0, pvalue=9.639969055370697e-84)\n"
     ]
    },
    {
     "data": {
      "image/png": "[encoded data removed]",
      "text/plain": [
       "<Figure size 1000x400 with 1 Axes>"
      ]
     },
     "metadata": {},
     "output_type": "display_data"
    },
    {
     "data": {
      "image/png": "[encoded data removed]",
      "text/plain": [
       "<Figure size 150x200 with 1 Axes>"
      ]
     },
     "metadata": {},
     "output_type": "display_data"
    }
   ],
   "source": [
    "_=plot_generalisation(activity_l2, regions, figsize=(10,4), ylabel='L2')\n",
    "fig9 = plot_generalisation_simplified(activity_l2, regions, figsize=(1.5,2), ylabel='')\n",
    "\n",
    "if save:\n",
    "    fig9.savefig(os.path.join(savepath, 'L2_activity.eps'), bbox_inches='tight')\n"
   ]
  },
  {
   "cell_type": "code",
   "execution_count": 8,
   "metadata": {},
   "outputs": [
    {
     "name": "stdout",
     "output_type": "stream",
     "text": [
      "V1: MannwhitneyuResult(statistic=9020371.0, pvalue=0.0)\n",
      "LM: MannwhitneyuResult(statistic=9458429.0, pvalue=0.0)\n",
      "LI: MannwhitneyuResult(statistic=5107484.0, pvalue=4.361633207992424e-259)\n",
      "POR: MannwhitneyuResult(statistic=5178573.5, pvalue=0.0)\n",
      "AL: MannwhitneyuResult(statistic=8279980.0, pvalue=0.0)\n",
      "RL: MannwhitneyuResult(statistic=3738867.0, pvalue=0.0)\n"
     ]
    },
    {
     "name": "stderr",
     "output_type": "stream",
     "text": [
      "c:\\Users\\rudit\\anaconda3\\envs\\mnp_torch\\lib\\site-packages\\ipykernel_launcher.py:117: UserWarning: FixedFormatter should only be used together with FixedLocator\n"
     ]
    },
    {
     "data": {
      "image/png": "[encoded data removed]",
      "text/plain": [
       "<Figure size 300x200 with 1 Axes>"
      ]
     },
     "metadata": {},
     "output_type": "display_data"
    },
    {
     "data": {
      "image/png": "[encoded data removed]",
      "text/plain": [
       "<Figure size 150x200 with 1 Axes>"
      ]
     },
     "metadata": {},
     "output_type": "display_data"
    },
    {
     "data": {
      "image/png": "[encoded data removed]",
      "text/plain": [
       "<Figure size 500x500 with 1 Axes>"
      ]
     },
     "metadata": {},
     "output_type": "display_data"
    }
   ],
   "source": [
    "fig2 = plot_generalisation(activity_var, regions, figsize=(3,2), ylabel='Variance')\n",
    "stats_var = test_significance(activity_var)\n",
    "# for i in range(len(stats_var)): \n",
    "#     print(stats_var[i][i+1] < 0.05)\n",
    "\n",
    "\n",
    "fig21 = plot_generalisation_simplified(activity_var, regions, figsize=(1.5,2), ylabel='', ylim=(0.2,2.5), yticks=['','','1','','2',''])\n",
    "\n",
    "fig22 = plot_matrix(activity_var, regions, figsize=(5,5), ylabel='Variance')\n",
    "\n",
    "if save:\n",
    "    fig21.savefig(os.path.join(savepath, 'neuron_variance.eps'), bbox_inches='tight')"
   ]
  },
  {
   "cell_type": "code",
   "execution_count": 9,
   "metadata": {},
   "outputs": [
    {
     "name": "stdout",
     "output_type": "stream",
     "text": [
      "1    False\n",
      "2     True\n",
      "3     True\n",
      "4    False\n",
      "5     True\n",
      "6     True\n",
      "Name: 1, dtype: bool\n",
      "1     True\n",
      "2    False\n",
      "3     True\n",
      "4     True\n",
      "5    False\n",
      "6     True\n",
      "Name: 2, dtype: bool\n",
      "1    False\n",
      "2     True\n",
      "3    False\n",
      "4     True\n",
      "5     True\n",
      "6     True\n",
      "Name: 3, dtype: bool\n",
      "1     True\n",
      "2     True\n",
      "3     True\n",
      "4    False\n",
      "5     True\n",
      "6     True\n",
      "Name: 4, dtype: bool\n",
      "1     True\n",
      "2     True\n",
      "3     True\n",
      "4     True\n",
      "5    False\n",
      "6    False\n",
      "Name: 5, dtype: bool\n",
      "1    False\n",
      "2    False\n",
      "3     True\n",
      "4     True\n",
      "5     True\n",
      "6    False\n",
      "Name: 6, dtype: bool\n"
     ]
    },
    {
     "data": {
      "image/png": "[encoded data removed]",
      "text/plain": [
       "<Figure size 1000x400 with 1 Axes>"
      ]
     },
     "metadata": {},
     "output_type": "display_data"
    }
   ],
   "source": [
    "plot_generalisation(activity_kur, regions, figsize=(10,4), ylabel='Kurtosis')\n",
    "stats_kur = test_significance(activity_kur)\n",
    "for i in range(len(stats_kur)): \n",
    "    print(stats_kur[i][i+1] < 0.05)"
   ]
  },
  {
   "cell_type": "code",
   "execution_count": 10,
   "metadata": {},
   "outputs": [
    {
     "name": "stdout",
     "output_type": "stream",
     "text": [
      "V1: MannwhitneyuResult(statistic=8617283.5, pvalue=0.0)\n",
      "LM: MannwhitneyuResult(statistic=9081660.5, pvalue=0.0)\n",
      "LI: MannwhitneyuResult(statistic=4657892.5, pvalue=3.027504638124488e-157)\n",
      "POR: MannwhitneyuResult(statistic=4842135.0, pvalue=2.8620782200960817e-280)\n",
      "AL: MannwhitneyuResult(statistic=7593902.0, pvalue=0.0)\n",
      "RL: MannwhitneyuResult(statistic=3008704.0, pvalue=6.545364763693834e-119)\n"
     ]
    },
    {
     "data": {
      "image/png": "[encoded data removed]",
      "text/plain": [
       "<Figure size 150x200 with 1 Axes>"
      ]
     },
     "metadata": {},
     "output_type": "display_data"
    },
    {
     "data": {
      "image/png": "[encoded data removed]",
      "text/plain": [
       "<Figure size 150x200 with 1 Axes>"
      ]
     },
     "metadata": {},
     "output_type": "display_data"
    }
   ],
   "source": [
    "fig3 = plot_generalisation(activity_minmax, regions, figsize=(1.5,2), ylabel='')\n",
    "stats_minmax = test_significance(activity_minmax)\n",
    "fig31 = plot_generalisation_simplified(activity_minmax, regions, figsize=(1.5,2), ylabel='')\n",
    "\n",
    "# for i in range(len(stats_minmax)): \n",
    "#     print(stats_minmax[i][i+1] < 0.05)\n",
    "if save:\n",
    "    fig31.savefig(os.path.join(savepath, 'response_range.eps'), bbox_inches='tight')"
   ]
  },
  {
   "cell_type": "code",
   "execution_count": 11,
   "metadata": {},
   "outputs": [
    {
     "data": {
      "image/png": "[encoded data removed]",
      "text/plain": [
       "<Figure size 150x200 with 1 Axes>"
      ]
     },
     "metadata": {},
     "output_type": "display_data"
    }
   ],
   "source": [
    "fig9 = plot_percentile(activity_25, activity_75, regions, figsize=(1.5,2), ylabel='')\n",
    "if save:\n",
    "    fig9.savefig(os.path.join(savepath, 'response_range_strat.eps'), bbox_inches='tight')"
   ]
  },
  {
   "cell_type": "code",
   "execution_count": 12,
   "metadata": {},
   "outputs": [
    {
     "data": {
      "image/png": "[encoded data removed]",
      "text/plain": [
       "<Figure size 300x200 with 1 Axes>"
      ]
     },
     "metadata": {},
     "output_type": "display_data"
    }
   ],
   "source": [
    "fig3 = plot_generalisation(activity_entr, regions, figsize=(3,2), ylabel='Entropy')"
   ]
  },
  {
   "cell_type": "code",
   "execution_count": 13,
   "metadata": {},
   "outputs": [
    {
     "name": "stdout",
     "output_type": "stream",
     "text": [
      "V1: MannwhitneyuResult(statistic=5820556.0, pvalue=1.117147432276497e-202)\n",
      "LM: MannwhitneyuResult(statistic=5067620.0, pvalue=3.558902282816038e-69)\n",
      "LI: MannwhitneyuResult(statistic=3906107.0, pvalue=1.9524634666549694e-44)\n",
      "POR: MannwhitneyuResult(statistic=4592569.5, pvalue=1.9408535021207875e-162)\n",
      "AL: MannwhitneyuResult(statistic=5709626.0, pvalue=1.5751863071804466e-251)\n",
      "RL: MannwhitneyuResult(statistic=3700967.5, pvalue=2.2648903422236112e-86)\n"
     ]
    },
    {
     "data": {
      "image/png": "[encoded data removed]",
      "text/plain": [
       "<Figure size 300x200 with 1 Axes>"
      ]
     },
     "metadata": {},
     "output_type": "display_data"
    },
    {
     "data": {
      "image/png": "[encoded data removed]",
      "text/plain": [
       "<Figure size 150x200 with 1 Axes>"
      ]
     },
     "metadata": {},
     "output_type": "display_data"
    },
    {
     "data": {
      "image/png": "[encoded data removed]",
      "text/plain": [
       "<Figure size 500x500 with 1 Axes>"
      ]
     },
     "metadata": {},
     "output_type": "display_data"
    }
   ],
   "source": [
    "fig4 = plot_generalisation(activity_popvar, regions, figsize=(3,2), ylabel='Variance')\n",
    "stats_var = test_significance(activity_popvar)\n",
    "# for i in range(len(stats_var)): \n",
    "#     print(stats_var[i][i+1] < 0.05)\n",
    "\n",
    "\n",
    "fig41 = plot_generalisation_simplified(activity_popvar, regions, figsize=(1.5,2), ylabel='')\n",
    "#fig41 = plot_generalisation_single(activity_popvar, regions, figsize=(3,2), ylabel='Variance')\n",
    "\n",
    "fig42 = plot_matrix(activity_popvar, regions, figsize=(5,5), ylabel='Variance')\n",
    "\n",
    "if save:\n",
    "    fig41.savefig(os.path.join(savepath, 'neuron_popvariance.eps'), bbox_inches='tight')"
   ]
  },
  {
   "cell_type": "markdown",
   "metadata": {},
   "source": [
    "## 2. In vivo variance"
   ]
  },
  {
   "cell_type": "code",
   "execution_count": 14,
   "metadata": {},
   "outputs": [],
   "source": [
    "# Plotting functions\n",
    "def plot_generalisation_simplified2(data, regions, figsize=(6,5), ylabel='', ylim=None, yticks=None):\n",
    "    '''Plot a list of boxplots'''\n",
    "    fig, ax = pl.subplots(figsize=figsize)\n",
    "\n",
    "    lw = 0.5\n",
    "    for i, region in enumerate(regions):\n",
    "        bp1 = ax.boxplot(data[region], showfliers=False, positions=np.arange(1,3)+i*2+i, widths=0.6, \n",
    "                        patch_artist=True, medianprops=dict(color='k', linewidth=lw), boxprops=dict(linewidth=lw), whiskerprops=dict(linewidth=lw),\n",
    "                        capprops=dict(linewidth=lw))\n",
    "\n",
    "        cs = [colors[i], [.4]*3]\n",
    "        for patch, color in zip(bp1['boxes'], cs):\n",
    "            patch.set_facecolor(color)\n",
    "        \n",
    "        print(mannwhitneyu(data[region][0], data[region][1]))\n",
    "\n",
    "    ax.set_ylabel(ylabel)\n",
    "    ax.set_xlim(0,len(regions)*2+len(regions))\n",
    "    ax.set_xticks(np.arange(1.5, (len(regions))*3, 3))\n",
    "    ax.set_xticklabels(regions)\n",
    "\n",
    "    if ylim is not None:\n",
    "        ax.set_ylim(ylim)\n",
    "    if yticks is not None:\n",
    "        ax.set_yticklabels(yticks)\n",
    "\n",
    "\n",
    "    return fig\n",
    "\n",
    "def plot_percentile2(data10, data90, regions, figsize=(6,5), ylabel='', ylim=None, yticks=None):\n",
    "    '''Plot a list of boxplots'''\n",
    "    fig, ax = pl.subplots(figsize=figsize)\n",
    "\n",
    "    lw = 0.5\n",
    "    for i, region in enumerate(regions):\n",
    "        bp1 = ax.boxplot(data10[region], showfliers=False, positions=np.arange(1,3)+i*2+i, widths=0.6, \n",
    "                        patch_artist=True, medianprops=dict(color='k', linewidth=lw), boxprops=dict(linewidth=lw), whiskerprops=dict(linewidth=lw),\n",
    "                        capprops=dict(linewidth=lw))\n",
    "\n",
    "        cs = [colors[i], [.4]*3]\n",
    "        for patch, color in zip(bp1['boxes'], cs):\n",
    "            patch.set_facecolor(color)\n",
    "\n",
    "        bp1 = ax.boxplot(data90[region], showfliers=False, positions=np.arange(1,3)+i*2+i, widths=0.6, \n",
    "                        patch_artist=True, medianprops=dict(color='k', linewidth=lw), boxprops=dict(linewidth=lw), whiskerprops=dict(linewidth=lw),\n",
    "                        capprops=dict(linewidth=lw))\n",
    "\n",
    "        cs = [colors[i], [.4]*3]\n",
    "        for patch, color in zip(bp1['boxes'], cs):\n",
    "            patch.set_facecolor(color)\n",
    "\n",
    "    ax.set_ylabel(ylabel)\n",
    "    ax.set_xlim(0,len(regions)*2+len(regions))\n",
    "    ax.set_xticks(np.arange(1.5, (len(regions))*3, 3))\n",
    "    ax.set_xticklabels(regions)\n",
    "\n",
    "    if ylim is not None:\n",
    "        ax.set_ylim(ylim)\n",
    "    if yticks is not None:\n",
    "        ax.set_yticklabels(yticks)\n",
    "\n",
    "    return fig\n",
    "\n",
    "def plot_generalisation_single2(data, regions, figsize=(6,5), ylabel=''):\n",
    "    '''Plot a list of boxplots'''\n",
    "    fig, ax = pl.subplots(figsize=figsize)\n",
    "\n",
    "    lw = 0.5\n",
    "    for i, region in enumerate(regions):\n",
    "        bp1 = ax.boxplot(data[region][0]/data[region][1], showfliers=False, positions=[1+i*2+i], widths=0.6, \n",
    "                        patch_artist=True, medianprops=dict(color='k', linewidth=lw), boxprops=dict(linewidth=lw), whiskerprops=dict(linewidth=lw),\n",
    "                        capprops=dict(linewidth=lw))\n",
    "\n",
    "        cs = [colors[i], [.4]*3]\n",
    "        for patch, color in zip(bp1['boxes'], cs):\n",
    "            patch.set_facecolor(color)\n",
    "\n",
    "    ax.axhline(1, ls='--', color=[.5]*3)\n",
    "    ax.set_ylabel(ylabel)\n",
    "    ax.set_xlim(0,len(regions)*2+len(regions))\n",
    "    ax.set_xticks(np.arange(1.5, (len(regions))*3, 3))\n",
    "    ax.set_xticklabels(regions)\n",
    "\n",
    "    return fig"
   ]
  },
  {
   "cell_type": "code",
   "execution_count": 15,
   "metadata": {},
   "outputs": [],
   "source": [
    "invivo_popvar = np.load(r'D:\\Data\\DeepMouse\\Results\\tuning_dynamics\\popvariance_validation.npy', allow_pickle=True).item()\n",
    "invivo_neuronvar = np.load(r'D:\\Data\\DeepMouse\\Results\\tuning_dynamics\\neuronvariance_validation.npy', allow_pickle=True).item()\n",
    "invivo_popmean = np.load(r'D:\\Data\\DeepMouse\\Results\\tuning_dynamics\\popmean_validation.npy', allow_pickle=True).item()\n",
    "invivo_l2 = np.load(r'D:\\Data\\DeepMouse\\Results\\tuning_dynamics\\L2_validation.npy', allow_pickle=True).item()\n",
    "invivo_mean = np.load(r'D:\\Data\\DeepMouse\\Results\\tuning_dynamics\\mean_validation.npy', allow_pickle=True).item()\n",
    "invivo_10 = np.load(r'D:\\Data\\DeepMouse\\Results\\tuning_dynamics\\percentile10_validation.npy', allow_pickle=True).item()\n",
    "invivo_90 = np.load(r'D:\\Data\\DeepMouse\\Results\\tuning_dynamics\\percentile90_validation.npy', allow_pickle=True).item()"
   ]
  },
  {
   "cell_type": "code",
   "execution_count": 16,
   "metadata": {},
   "outputs": [
    {
     "name": "stdout",
     "output_type": "stream",
     "text": [
      "WilcoxonResult(statistic=30698.0, pvalue=3.7705553814255224e-06)\n",
      "(408,) (408,)\n"
     ]
    }
   ],
   "source": [
    "from scipy.stats import wilcoxon\n",
    "print(wilcoxon(invivo_neuronvar['V1'][0], invivo_neuronvar['V1'][1]))\n",
    "print(invivo_neuronvar['V1'][0].shape, invivo_neuronvar['V1'][1].shape)"
   ]
  },
  {
   "cell_type": "code",
   "execution_count": 17,
   "metadata": {},
   "outputs": [
    {
     "name": "stdout",
     "output_type": "stream",
     "text": [
      "MannwhitneyuResult(statistic=187998.0, pvalue=1.1041999492080145e-07)\n",
      "MannwhitneyuResult(statistic=566549.0, pvalue=6.294132453068266e-07)\n",
      "MannwhitneyuResult(statistic=257848.0, pvalue=4.199939191460974e-06)\n",
      "MannwhitneyuResult(statistic=141412.0, pvalue=3.1346855293087485e-09)\n",
      "MannwhitneyuResult(statistic=230561.5, pvalue=0.11934733254960082)\n",
      "MannwhitneyuResult(statistic=33922.0, pvalue=0.00010136436842831978)\n"
     ]
    },
    {
     "name": "stderr",
     "output_type": "stream",
     "text": [
      "c:\\Users\\rudit\\anaconda3\\envs\\mnp_torch\\lib\\site-packages\\ipykernel_launcher.py:26: UserWarning: FixedFormatter should only be used together with FixedLocator\n"
     ]
    },
    {
     "data": {
      "image/png": "[encoded data removed]",
      "text/plain": [
       "<Figure size 150x200 with 1 Axes>"
      ]
     },
     "metadata": {},
     "output_type": "display_data"
    }
   ],
   "source": [
    "fig5 = plot_generalisation_simplified2(invivo_popvar, regions, figsize=(1.5,2), ylabel='', ylim=(0,2), yticks=['0','','1','','2'])\n",
    "\n",
    "if save:\n",
    "    fig5.savefig(os.path.join(savepath, 'neuron_popvariance_invivo.eps'), bbox_inches='tight')"
   ]
  },
  {
   "cell_type": "code",
   "execution_count": 18,
   "metadata": {},
   "outputs": [
    {
     "name": "stdout",
     "output_type": "stream",
     "text": [
      "MannwhitneyuResult(statistic=104837.0, pvalue=1.385602839862367e-10)\n",
      "MannwhitneyuResult(statistic=118863.0, pvalue=1.1727521603159427e-12)\n",
      "MannwhitneyuResult(statistic=41084.0, pvalue=2.1237735490003648e-05)\n",
      "MannwhitneyuResult(statistic=20525.0, pvalue=3.653066382614761e-08)\n",
      "MannwhitneyuResult(statistic=20876.0, pvalue=0.5622587097240328)\n",
      "MannwhitneyuResult(statistic=15237.0, pvalue=1.537179480628545e-05)\n"
     ]
    },
    {
     "name": "stderr",
     "output_type": "stream",
     "text": [
      "c:\\Users\\rudit\\anaconda3\\envs\\mnp_torch\\lib\\site-packages\\ipykernel_launcher.py:26: UserWarning: FixedFormatter should only be used together with FixedLocator\n"
     ]
    },
    {
     "data": {
      "image/png": "[encoded data removed]",
      "text/plain": [
       "<Figure size 150x200 with 1 Axes>"
      ]
     },
     "metadata": {},
     "output_type": "display_data"
    }
   ],
   "source": [
    "fig6 = plot_generalisation_simplified2(invivo_neuronvar, regions, figsize=(1.5,2), ylabel='', ylim=(0,2), yticks=['0','','1','','2'])\n",
    "\n",
    "if save:\n",
    "    fig6.savefig(os.path.join(savepath, 'neuron_variance_invivo.eps'), bbox_inches='tight')"
   ]
  },
  {
   "cell_type": "code",
   "execution_count": 19,
   "metadata": {},
   "outputs": [
    {
     "name": "stdout",
     "output_type": "stream",
     "text": [
      "MannwhitneyuResult(statistic=194883.0, pvalue=5.1145709163462725e-11)\n",
      "MannwhitneyuResult(statistic=558204.0, pvalue=1.221441131813337e-05)\n",
      "MannwhitneyuResult(statistic=272969.0, pvalue=7.865023409412125e-11)\n",
      "MannwhitneyuResult(statistic=143686.0, pvalue=1.4347399420586314e-10)\n",
      "MannwhitneyuResult(statistic=247031.5, pvalue=0.0002166362202228685)\n",
      "MannwhitneyuResult(statistic=33822.0, pvalue=0.00013285976454002863)\n"
     ]
    },
    {
     "data": {
      "image/png": "[encoded data removed]",
      "text/plain": [
       "<Figure size 300x200 with 1 Axes>"
      ]
     },
     "metadata": {},
     "output_type": "display_data"
    }
   ],
   "source": [
    "fig7 = plot_generalisation_simplified2(invivo_l2, regions, figsize=(3,2), ylabel='')\n",
    "\n",
    "if save:\n",
    "    fig7.savefig(os.path.join(savepath, 'neuron_L2_invivo.eps'), bbox_inches='tight')"
   ]
  },
  {
   "cell_type": "code",
   "execution_count": 20,
   "metadata": {},
   "outputs": [
    {
     "name": "stdout",
     "output_type": "stream",
     "text": [
      "MannwhitneyuResult(statistic=200023.0, pvalue=6.032311402307085e-14)\n",
      "MannwhitneyuResult(statistic=582961.0, pvalue=6.484204920207236e-10)\n",
      "MannwhitneyuResult(statistic=269455.0, pvalue=1.3513705632658715e-09)\n",
      "MannwhitneyuResult(statistic=146225.0, pvalue=3.481534594741527e-12)\n",
      "MannwhitneyuResult(statistic=237695.5, pvalue=0.012954789261660304)\n",
      "MannwhitneyuResult(statistic=35251.0, pvalue=1.8681846487396217e-06)\n"
     ]
    },
    {
     "data": {
      "image/png": "[encoded data removed]",
      "text/plain": [
       "<Figure size 300x200 with 1 Axes>"
      ]
     },
     "metadata": {},
     "output_type": "display_data"
    }
   ],
   "source": [
    "_ = plot_generalisation_simplified2(invivo_mean, regions, figsize=(3,2), ylabel='')\n"
   ]
  },
  {
   "cell_type": "code",
   "execution_count": 21,
   "metadata": {},
   "outputs": [
    {
     "data": {
      "image/png": "[encoded data removed]",
      "text/plain": [
       "<Figure size 150x200 with 1 Axes>"
      ]
     },
     "metadata": {},
     "output_type": "display_data"
    }
   ],
   "source": [
    "fig10 = plot_percentile2(invivo_10, invivo_90, regions, figsize=(1.5,2), ylabel='')\n",
    "\n",
    "if save:\n",
    "    fig10.savefig(os.path.join(savepath, 'neuron_percentile_invivo.eps'), bbox_inches='tight')"
   ]
  },
  {
   "cell_type": "markdown",
   "metadata": {},
   "source": [
    "## 3. Wdf mean"
   ]
  },
  {
   "cell_type": "code",
   "execution_count": 22,
   "metadata": {},
   "outputs": [],
   "source": [
    "# Plotting functions\n",
    "def get_population_mean(data, window=(5,14)):\n",
    "    '''Given widefield data, extract the mean activity formatted as [region][stimulus]'''\n",
    "    activity = data['segmented_norm']\n",
    "    labels = data['labels']\n",
    "\n",
    "    # Calculate the mean activity \n",
    "    activity_m = activity[:,:,window[0]:window[1]].mean(axis=-1)-activity[:,:,:window[0]].mean(axis=-1)\n",
    "\n",
    "    results = [[activity_m[labels==j,i], activity_m[labels!=j,i]] for i in range(6)]\n",
    "    return results\n",
    "\n",
    "def combine_wdf(data):\n",
    "    '''Combine the data of multiple recordings'''\n",
    "    combined = []\n",
    "    for i in range(6):\n",
    "        within = np.concatenate([d[i][0] for d in data])\n",
    "        across = np.concatenate([d[i][1] for d in data])\n",
    "        all_data = np.concatenate([within, across])\n",
    "        mu, s = all_data.mean(), all_data.std()\n",
    "        within = (within-mu)/s  \n",
    "        across = (across-mu)/s\n",
    "        combined.append([within, across])\n",
    "\n",
    "    return combined\n",
    "\n",
    "def plot_wdf(data, figsize=(6,5), ylabel=''):\n",
    "    '''Plot wdf data as boxplots'''\n",
    "    fig, ax = pl.subplots(figsize=figsize)\n",
    "\n",
    "    lw = 0.5\n",
    "    for i, region in enumerate(regions):\n",
    "        bp1 = ax.boxplot(data[i], showfliers=False, positions=np.arange(1,3)+i*2+i, widths=0.6, \n",
    "                        patch_artist=True, medianprops=dict(color='k', linewidth=lw), boxprops=dict(linewidth=lw), whiskerprops=dict(linewidth=lw),\n",
    "                        capprops=dict(linewidth=lw))\n",
    "\n",
    "        cs = [colors[i], [.4]*3]\n",
    "        for patch, color in zip(bp1['boxes'], cs):\n",
    "            patch.set_facecolor(color)\n",
    "\n",
    "    ax.set_ylabel(ylabel)\n",
    "    ax.set_xlim(0,len(regions)*2+len(regions))\n",
    "    ax.set_xticks(np.arange(1.5, (len(regions))*3, 3))\n",
    "    ax.set_xticklabels(regions)\n",
    "    return fig\n",
    "    "
   ]
  },
  {
   "cell_type": "code",
   "execution_count": 23,
   "metadata": {},
   "outputs": [],
   "source": [
    "fp_base = r'D:\\Data\\DeepMouse\\Results\\tuning_dynamics'\n",
    "fps = ['results_RT114.npy', 'results_RT117.npy']\n",
    "\n",
    "wdf = [np.load(os.path.join(fp_base, name), allow_pickle=True).item() for name in fps]\n",
    "activity_m = [get_population_mean(data) for data in wdf]\n",
    "activity_combined = combine_wdf(activity_m)"
   ]
  },
  {
   "cell_type": "code",
   "execution_count": 30,
   "metadata": {},
   "outputs": [
    {
     "name": "stdout",
     "output_type": "stream",
     "text": [
      "V1 MannwhitneyuResult(statistic=652110.0, pvalue=0.12520457114338432)\n",
      "LM MannwhitneyuResult(statistic=656426.0, pvalue=0.07550269350268017)\n",
      "LI MannwhitneyuResult(statistic=643047.0, pvalue=0.3073993904014086)\n",
      "POR MannwhitneyuResult(statistic=613766.0, pvalue=0.5251957115000668)\n",
      "AL MannwhitneyuResult(statistic=649510.0, pvalue=0.16567495219787642)\n",
      "RL MannwhitneyuResult(statistic=650207.0, pvalue=0.15396726554597004)\n"
     ]
    },
    {
     "data": {
      "image/png": "[encoded data removed]",
      "text/plain": [
       "<Figure size 150x200 with 1 Axes>"
      ]
     },
     "metadata": {},
     "output_type": "display_data"
    }
   ],
   "source": [
    "fig7 = plot_wdf(activity_combined, figsize=(1.5,2))\n",
    "\n",
    "if save:\n",
    "    fig7.savefig(os.path.join(savepath, 'neuron_mean_invivo.eps'), bbox_inches='tight')\n",
    "\n",
    "for i, a in enumerate(activity_combined): print(regions[i], mannwhitneyu(a[0], a[1]))\n"
   ]
  }
 ],
 "metadata": {
  "kernelspec": {
   "display_name": "mnp_torch",
   "language": "python",
   "name": "python3"
  },
  "language_info": {
   "codemirror_mode": {
    "name": "ipython",
    "version": 3
   },
   "file_extension": ".py",
   "mimetype": "text/x-python",
   "name": "python",
   "nbconvert_exporter": "python",
   "pygments_lexer": "ipython3",
   "version": "3.7.13"
  },
  "orig_nbformat": 4
 },
 "nbformat": 4,
 "nbformat_minor": 2
}
